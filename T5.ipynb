{
 "cells": [
  {
   "metadata": {
    "ExecuteTime": {
     "end_time": "2024-04-21T17:30:43.590642Z",
     "start_time": "2024-04-21T17:30:38.577625Z"
    }
   },
   "cell_type": "code",
   "source": [
    "import pandas as pd\n",
    "import nltk\n",
    "from nltk.sentiment import SentimentIntensityAnalyzer\n",
    "from nltk.corpus import stopwords\n",
    "from nltk.tokenize import word_tokenize\n",
    "\n",
    "# Download necessary NLTK resources\n",
    "nltk.download('vader_lexicon')\n",
    "nltk.download('punkt')\n",
    "nltk.download('stopwords')"
   ],
   "id": "be2dfeb4168deba6",
   "outputs": [
    {
     "name": "stderr",
     "output_type": "stream",
     "text": [
      "[nltk_data] Downloading package vader_lexicon to\n",
      "[nltk_data]     C:\\Users\\aks50\\AppData\\Roaming\\nltk_data...\n",
      "[nltk_data]   Package vader_lexicon is already up-to-date!\n",
      "[nltk_data] Downloading package punkt to\n",
      "[nltk_data]     C:\\Users\\aks50\\AppData\\Roaming\\nltk_data...\n",
      "[nltk_data]   Package punkt is already up-to-date!\n",
      "[nltk_data] Downloading package stopwords to\n",
      "[nltk_data]     C:\\Users\\aks50\\AppData\\Roaming\\nltk_data...\n",
      "[nltk_data]   Package stopwords is already up-to-date!\n"
     ]
    },
    {
     "data": {
      "text/plain": [
       "True"
      ]
     },
     "execution_count": 1,
     "metadata": {},
     "output_type": "execute_result"
    }
   ],
   "execution_count": 1
  },
  {
   "metadata": {
    "ExecuteTime": {
     "end_time": "2024-04-21T17:30:48.535345Z",
     "start_time": "2024-04-21T17:30:43.596649Z"
    }
   },
   "cell_type": "code",
   "source": [
    "# Define chunk size\n",
    "chunk_size = 500000  # Adjust based on your system's memory\n",
    "\n",
    "# Create an iterator\n",
    "chunk_iter = pd.read_csv('yelp_academic_dataset_review.csv', chunksize=chunk_size)\n",
    "\n",
    "# Process each chunk (example: simply print the first few rows of the first chunk)\n",
    "for df in chunk_iter:\n",
    "    break  # Remove or modify this line as needed to process further"
   ],
   "id": "c7af8c527746a5f0",
   "outputs": [],
   "execution_count": 2
  },
  {
   "metadata": {
    "ExecuteTime": {
     "end_time": "2024-04-21T17:30:48.565348Z",
     "start_time": "2024-04-21T17:30:48.536346Z"
    }
   },
   "cell_type": "code",
   "source": "df",
   "id": "c44fdf8878a03b34",
   "outputs": [
    {
     "data": {
      "text/plain": [
       "                     review_id                 user_id  \\\n",
       "0       KU_O5udG6zpxOg-VcAEodg  mh_-eMZ6K5RLWhZyISBhwA   \n",
       "1       BiTunyQ73aT9WBnpR9DZGw  OyoGAe7OKpv6SyGZT5g77Q   \n",
       "2       saUsX_uimxRlCVr67Z4Jig  8g_iMtfSiwikVnbP2etR0A   \n",
       "3       AqPFMleE6RsU23_auESxiA  _7bHUi9Uuf5__HHc_Q8guQ   \n",
       "4       Sx8TMOWLNuJBWer-0pcmoA  bcjbaE6dDog4jkNY91ncLQ   \n",
       "...                        ...                     ...   \n",
       "499995  q4Z6NCR1IMRdpPorTD89Tg  tCPzvPwsd_DwBx6whsDlLQ   \n",
       "499996  KTg0i04SbVWGWHHJmGOI_A  rj0uSTXu1rPVgAfOMHYltQ   \n",
       "499997  ZuMNAPcArFtaGufe-nwGOA  MVqzYt-E7y1Mdw9F_7nLjw   \n",
       "499998  Lohri9uZyvoNnH5z_NT6DA  vn777Y2vCynYYUYJjNYdYg   \n",
       "499999  9BaxxfWBmIsSPlx-kvRBDw  _49VYA-2qlNOOkE8Hc7Z_A   \n",
       "\n",
       "                   business_id  stars  useful  funny  cool  \\\n",
       "0       XQfwVwDr-v0ZS3_CbbE5Xw    3.0       0      0     0   \n",
       "1       7ATYjTIgM3jUlt4UM3IypQ    5.0       1      0     1   \n",
       "2       YjUWPpI6HXG530lwP-fb2A    3.0       0      0     0   \n",
       "3       kxX2SOes4o-D3ZQBkiMRfA    5.0       1      0     1   \n",
       "4       e4Vwtrqf-wpJfwesgvdgxQ    4.0       1      0     1   \n",
       "...                        ...    ...     ...    ...   ...   \n",
       "499995  -QwHN9KoluPcA0YFllwFYQ    5.0       0      0     0   \n",
       "499996  t_v2TyjeqaRkrfZKudY9cA    5.0       0      0     0   \n",
       "499997  3XirYkP9PJvVXIEDPNNXLA    4.0       0      0     0   \n",
       "499998  gfPDLZimZu1NtBIDbeXetg    2.0       1      0     0   \n",
       "499999  sWCCxY1-9B1FGlSVeQvnHg    5.0       0      0     0   \n",
       "\n",
       "                                                     text                 date  \n",
       "0       If you decide to eat here, just be aware it is...  2018-07-07 22:09:11  \n",
       "1       I've taken a lot of spin classes over the year...  2012-01-03 15:28:18  \n",
       "2       Family diner. Had the buffet. Eclectic assortm...  2014-02-05 20:30:30  \n",
       "3       Wow!  Yummy, different,  delicious.   Our favo...  2015-01-04 00:01:03  \n",
       "4       Cute interior and owner (?) gave us tour of up...  2017-01-14 20:54:15  \n",
       "...                                                   ...                  ...  \n",
       "499995  We won the Playoff game last night and is sche...  2021-06-30 16:14:03  \n",
       "499996  We have been a resident almost 4 years at Manz...  2021-03-24 20:21:27  \n",
       "499997  This place is hyped as one of the best places ...  2021-07-03 04:51:07  \n",
       "499998  Saw the reviews so thought I'd try this place....  2019-04-16 23:28:41  \n",
       "499999  Yummy!  I ordered Uber Eats and wasn't sure ho...  2021-07-06 01:58:08  \n",
       "\n",
       "[500000 rows x 9 columns]"
      ],
      "text/html": [
       "<div>\n",
       "<style scoped>\n",
       "    .dataframe tbody tr th:only-of-type {\n",
       "        vertical-align: middle;\n",
       "    }\n",
       "\n",
       "    .dataframe tbody tr th {\n",
       "        vertical-align: top;\n",
       "    }\n",
       "\n",
       "    .dataframe thead th {\n",
       "        text-align: right;\n",
       "    }\n",
       "</style>\n",
       "<table border=\"1\" class=\"dataframe\">\n",
       "  <thead>\n",
       "    <tr style=\"text-align: right;\">\n",
       "      <th></th>\n",
       "      <th>review_id</th>\n",
       "      <th>user_id</th>\n",
       "      <th>business_id</th>\n",
       "      <th>stars</th>\n",
       "      <th>useful</th>\n",
       "      <th>funny</th>\n",
       "      <th>cool</th>\n",
       "      <th>text</th>\n",
       "      <th>date</th>\n",
       "    </tr>\n",
       "  </thead>\n",
       "  <tbody>\n",
       "    <tr>\n",
       "      <th>0</th>\n",
       "      <td>KU_O5udG6zpxOg-VcAEodg</td>\n",
       "      <td>mh_-eMZ6K5RLWhZyISBhwA</td>\n",
       "      <td>XQfwVwDr-v0ZS3_CbbE5Xw</td>\n",
       "      <td>3.0</td>\n",
       "      <td>0</td>\n",
       "      <td>0</td>\n",
       "      <td>0</td>\n",
       "      <td>If you decide to eat here, just be aware it is...</td>\n",
       "      <td>2018-07-07 22:09:11</td>\n",
       "    </tr>\n",
       "    <tr>\n",
       "      <th>1</th>\n",
       "      <td>BiTunyQ73aT9WBnpR9DZGw</td>\n",
       "      <td>OyoGAe7OKpv6SyGZT5g77Q</td>\n",
       "      <td>7ATYjTIgM3jUlt4UM3IypQ</td>\n",
       "      <td>5.0</td>\n",
       "      <td>1</td>\n",
       "      <td>0</td>\n",
       "      <td>1</td>\n",
       "      <td>I've taken a lot of spin classes over the year...</td>\n",
       "      <td>2012-01-03 15:28:18</td>\n",
       "    </tr>\n",
       "    <tr>\n",
       "      <th>2</th>\n",
       "      <td>saUsX_uimxRlCVr67Z4Jig</td>\n",
       "      <td>8g_iMtfSiwikVnbP2etR0A</td>\n",
       "      <td>YjUWPpI6HXG530lwP-fb2A</td>\n",
       "      <td>3.0</td>\n",
       "      <td>0</td>\n",
       "      <td>0</td>\n",
       "      <td>0</td>\n",
       "      <td>Family diner. Had the buffet. Eclectic assortm...</td>\n",
       "      <td>2014-02-05 20:30:30</td>\n",
       "    </tr>\n",
       "    <tr>\n",
       "      <th>3</th>\n",
       "      <td>AqPFMleE6RsU23_auESxiA</td>\n",
       "      <td>_7bHUi9Uuf5__HHc_Q8guQ</td>\n",
       "      <td>kxX2SOes4o-D3ZQBkiMRfA</td>\n",
       "      <td>5.0</td>\n",
       "      <td>1</td>\n",
       "      <td>0</td>\n",
       "      <td>1</td>\n",
       "      <td>Wow!  Yummy, different,  delicious.   Our favo...</td>\n",
       "      <td>2015-01-04 00:01:03</td>\n",
       "    </tr>\n",
       "    <tr>\n",
       "      <th>4</th>\n",
       "      <td>Sx8TMOWLNuJBWer-0pcmoA</td>\n",
       "      <td>bcjbaE6dDog4jkNY91ncLQ</td>\n",
       "      <td>e4Vwtrqf-wpJfwesgvdgxQ</td>\n",
       "      <td>4.0</td>\n",
       "      <td>1</td>\n",
       "      <td>0</td>\n",
       "      <td>1</td>\n",
       "      <td>Cute interior and owner (?) gave us tour of up...</td>\n",
       "      <td>2017-01-14 20:54:15</td>\n",
       "    </tr>\n",
       "    <tr>\n",
       "      <th>...</th>\n",
       "      <td>...</td>\n",
       "      <td>...</td>\n",
       "      <td>...</td>\n",
       "      <td>...</td>\n",
       "      <td>...</td>\n",
       "      <td>...</td>\n",
       "      <td>...</td>\n",
       "      <td>...</td>\n",
       "      <td>...</td>\n",
       "    </tr>\n",
       "    <tr>\n",
       "      <th>499995</th>\n",
       "      <td>q4Z6NCR1IMRdpPorTD89Tg</td>\n",
       "      <td>tCPzvPwsd_DwBx6whsDlLQ</td>\n",
       "      <td>-QwHN9KoluPcA0YFllwFYQ</td>\n",
       "      <td>5.0</td>\n",
       "      <td>0</td>\n",
       "      <td>0</td>\n",
       "      <td>0</td>\n",
       "      <td>We won the Playoff game last night and is sche...</td>\n",
       "      <td>2021-06-30 16:14:03</td>\n",
       "    </tr>\n",
       "    <tr>\n",
       "      <th>499996</th>\n",
       "      <td>KTg0i04SbVWGWHHJmGOI_A</td>\n",
       "      <td>rj0uSTXu1rPVgAfOMHYltQ</td>\n",
       "      <td>t_v2TyjeqaRkrfZKudY9cA</td>\n",
       "      <td>5.0</td>\n",
       "      <td>0</td>\n",
       "      <td>0</td>\n",
       "      <td>0</td>\n",
       "      <td>We have been a resident almost 4 years at Manz...</td>\n",
       "      <td>2021-03-24 20:21:27</td>\n",
       "    </tr>\n",
       "    <tr>\n",
       "      <th>499997</th>\n",
       "      <td>ZuMNAPcArFtaGufe-nwGOA</td>\n",
       "      <td>MVqzYt-E7y1Mdw9F_7nLjw</td>\n",
       "      <td>3XirYkP9PJvVXIEDPNNXLA</td>\n",
       "      <td>4.0</td>\n",
       "      <td>0</td>\n",
       "      <td>0</td>\n",
       "      <td>0</td>\n",
       "      <td>This place is hyped as one of the best places ...</td>\n",
       "      <td>2021-07-03 04:51:07</td>\n",
       "    </tr>\n",
       "    <tr>\n",
       "      <th>499998</th>\n",
       "      <td>Lohri9uZyvoNnH5z_NT6DA</td>\n",
       "      <td>vn777Y2vCynYYUYJjNYdYg</td>\n",
       "      <td>gfPDLZimZu1NtBIDbeXetg</td>\n",
       "      <td>2.0</td>\n",
       "      <td>1</td>\n",
       "      <td>0</td>\n",
       "      <td>0</td>\n",
       "      <td>Saw the reviews so thought I'd try this place....</td>\n",
       "      <td>2019-04-16 23:28:41</td>\n",
       "    </tr>\n",
       "    <tr>\n",
       "      <th>499999</th>\n",
       "      <td>9BaxxfWBmIsSPlx-kvRBDw</td>\n",
       "      <td>_49VYA-2qlNOOkE8Hc7Z_A</td>\n",
       "      <td>sWCCxY1-9B1FGlSVeQvnHg</td>\n",
       "      <td>5.0</td>\n",
       "      <td>0</td>\n",
       "      <td>0</td>\n",
       "      <td>0</td>\n",
       "      <td>Yummy!  I ordered Uber Eats and wasn't sure ho...</td>\n",
       "      <td>2021-07-06 01:58:08</td>\n",
       "    </tr>\n",
       "  </tbody>\n",
       "</table>\n",
       "<p>500000 rows × 9 columns</p>\n",
       "</div>"
      ]
     },
     "execution_count": 3,
     "metadata": {},
     "output_type": "execute_result"
    }
   ],
   "execution_count": 3
  },
  {
   "metadata": {
    "ExecuteTime": {
     "end_time": "2024-04-21T17:30:48.612352Z",
     "start_time": "2024-04-21T17:30:48.567347Z"
    }
   },
   "cell_type": "code",
   "source": [
    "df = df[df['stars'] <= 3.0]\n",
    "df"
   ],
   "id": "62224bbcba4a981e",
   "outputs": [
    {
     "data": {
      "text/plain": [
       "                     review_id                 user_id  \\\n",
       "0       KU_O5udG6zpxOg-VcAEodg  mh_-eMZ6K5RLWhZyISBhwA   \n",
       "2       saUsX_uimxRlCVr67Z4Jig  8g_iMtfSiwikVnbP2etR0A   \n",
       "5       JrIxlS1TzJ-iCu79ul40cQ  eUta8W_HdHMXPzLBBZhL1A   \n",
       "8       ZKvDG2sBvHVdF5oBNUOpAQ  wSTuiTk-sKNdcFyprzZAjg   \n",
       "9       pUycOfUwM8vqX7KjRRhUEA  59MxRhNVhU9MYndMkz0wtw   \n",
       "...                        ...                     ...   \n",
       "499986  K-jexLTVRZuaWcdhaKxAZg  YixuK0SLh3HWt5ddv1icjQ   \n",
       "499987  4-cuffTHQK0y6LUJcSLwrA  wyvv6hQ9yqjgLtU78zjTog   \n",
       "499989  hah252tBUCFjUwSGADgr8g  CzttMxMc3IC33b4fY8emHA   \n",
       "499991  aFPIbN3aj5pN0RmlUDkmgw  r_jYtiPrYxXHDlEZCgJsTw   \n",
       "499998  Lohri9uZyvoNnH5z_NT6DA  vn777Y2vCynYYUYJjNYdYg   \n",
       "\n",
       "                   business_id  stars  useful  funny  cool  \\\n",
       "0       XQfwVwDr-v0ZS3_CbbE5Xw    3.0       0      0     0   \n",
       "2       YjUWPpI6HXG530lwP-fb2A    3.0       0      0     0   \n",
       "5       04UD14gamNjLY0IDYVhHJg    1.0       1      2     1   \n",
       "8       B5XSoSG3SfvQGtKEGQ1tSQ    3.0       1      1     0   \n",
       "9       gebiRewfieSdtt17PTW6Zg    3.0       0      0     0   \n",
       "...                        ...    ...     ...    ...   ...   \n",
       "499986  ROG55Lx4v7J8u41jl9Q6_A    1.0       1      0     0   \n",
       "499987  VX7GkJDnhPG8NmrdO1V-6Q    3.0       0      0     0   \n",
       "499989  rcJnKmhgSPb8BmK3d6AZYQ    3.0       1      0     0   \n",
       "499991  AHAPYD1ADG6MD8RB1LprWA    1.0       6      5     0   \n",
       "499998  gfPDLZimZu1NtBIDbeXetg    2.0       1      0     0   \n",
       "\n",
       "                                                     text                 date  \n",
       "0       If you decide to eat here, just be aware it is...  2018-07-07 22:09:11  \n",
       "2       Family diner. Had the buffet. Eclectic assortm...  2014-02-05 20:30:30  \n",
       "5       I am a long term frequent customer of this est...  2015-09-23 23:10:31  \n",
       "8       This easter instead of going to Lopez Lake we ...  2016-03-30 22:46:33  \n",
       "9       Had a party of 6 here for hibachi. Our waitres...  2016-07-25 07:31:06  \n",
       "...                                                   ...                  ...  \n",
       "499986  You are charged $20 if you drop off after hour...  2019-09-10 01:44:54  \n",
       "499987  The food here is very average. It's the type o...  2021-02-08 18:19:47  \n",
       "499989  I came here for a mani/pedi. My nails lasted f...  2018-07-01 12:48:51  \n",
       "499991  I asked if there was a minimum about of hours ...  2011-08-08 14:22:39  \n",
       "499998  Saw the reviews so thought I'd try this place....  2019-04-16 23:28:41  \n",
       "\n",
       "[156678 rows x 9 columns]"
      ],
      "text/html": [
       "<div>\n",
       "<style scoped>\n",
       "    .dataframe tbody tr th:only-of-type {\n",
       "        vertical-align: middle;\n",
       "    }\n",
       "\n",
       "    .dataframe tbody tr th {\n",
       "        vertical-align: top;\n",
       "    }\n",
       "\n",
       "    .dataframe thead th {\n",
       "        text-align: right;\n",
       "    }\n",
       "</style>\n",
       "<table border=\"1\" class=\"dataframe\">\n",
       "  <thead>\n",
       "    <tr style=\"text-align: right;\">\n",
       "      <th></th>\n",
       "      <th>review_id</th>\n",
       "      <th>user_id</th>\n",
       "      <th>business_id</th>\n",
       "      <th>stars</th>\n",
       "      <th>useful</th>\n",
       "      <th>funny</th>\n",
       "      <th>cool</th>\n",
       "      <th>text</th>\n",
       "      <th>date</th>\n",
       "    </tr>\n",
       "  </thead>\n",
       "  <tbody>\n",
       "    <tr>\n",
       "      <th>0</th>\n",
       "      <td>KU_O5udG6zpxOg-VcAEodg</td>\n",
       "      <td>mh_-eMZ6K5RLWhZyISBhwA</td>\n",
       "      <td>XQfwVwDr-v0ZS3_CbbE5Xw</td>\n",
       "      <td>3.0</td>\n",
       "      <td>0</td>\n",
       "      <td>0</td>\n",
       "      <td>0</td>\n",
       "      <td>If you decide to eat here, just be aware it is...</td>\n",
       "      <td>2018-07-07 22:09:11</td>\n",
       "    </tr>\n",
       "    <tr>\n",
       "      <th>2</th>\n",
       "      <td>saUsX_uimxRlCVr67Z4Jig</td>\n",
       "      <td>8g_iMtfSiwikVnbP2etR0A</td>\n",
       "      <td>YjUWPpI6HXG530lwP-fb2A</td>\n",
       "      <td>3.0</td>\n",
       "      <td>0</td>\n",
       "      <td>0</td>\n",
       "      <td>0</td>\n",
       "      <td>Family diner. Had the buffet. Eclectic assortm...</td>\n",
       "      <td>2014-02-05 20:30:30</td>\n",
       "    </tr>\n",
       "    <tr>\n",
       "      <th>5</th>\n",
       "      <td>JrIxlS1TzJ-iCu79ul40cQ</td>\n",
       "      <td>eUta8W_HdHMXPzLBBZhL1A</td>\n",
       "      <td>04UD14gamNjLY0IDYVhHJg</td>\n",
       "      <td>1.0</td>\n",
       "      <td>1</td>\n",
       "      <td>2</td>\n",
       "      <td>1</td>\n",
       "      <td>I am a long term frequent customer of this est...</td>\n",
       "      <td>2015-09-23 23:10:31</td>\n",
       "    </tr>\n",
       "    <tr>\n",
       "      <th>8</th>\n",
       "      <td>ZKvDG2sBvHVdF5oBNUOpAQ</td>\n",
       "      <td>wSTuiTk-sKNdcFyprzZAjg</td>\n",
       "      <td>B5XSoSG3SfvQGtKEGQ1tSQ</td>\n",
       "      <td>3.0</td>\n",
       "      <td>1</td>\n",
       "      <td>1</td>\n",
       "      <td>0</td>\n",
       "      <td>This easter instead of going to Lopez Lake we ...</td>\n",
       "      <td>2016-03-30 22:46:33</td>\n",
       "    </tr>\n",
       "    <tr>\n",
       "      <th>9</th>\n",
       "      <td>pUycOfUwM8vqX7KjRRhUEA</td>\n",
       "      <td>59MxRhNVhU9MYndMkz0wtw</td>\n",
       "      <td>gebiRewfieSdtt17PTW6Zg</td>\n",
       "      <td>3.0</td>\n",
       "      <td>0</td>\n",
       "      <td>0</td>\n",
       "      <td>0</td>\n",
       "      <td>Had a party of 6 here for hibachi. Our waitres...</td>\n",
       "      <td>2016-07-25 07:31:06</td>\n",
       "    </tr>\n",
       "    <tr>\n",
       "      <th>...</th>\n",
       "      <td>...</td>\n",
       "      <td>...</td>\n",
       "      <td>...</td>\n",
       "      <td>...</td>\n",
       "      <td>...</td>\n",
       "      <td>...</td>\n",
       "      <td>...</td>\n",
       "      <td>...</td>\n",
       "      <td>...</td>\n",
       "    </tr>\n",
       "    <tr>\n",
       "      <th>499986</th>\n",
       "      <td>K-jexLTVRZuaWcdhaKxAZg</td>\n",
       "      <td>YixuK0SLh3HWt5ddv1icjQ</td>\n",
       "      <td>ROG55Lx4v7J8u41jl9Q6_A</td>\n",
       "      <td>1.0</td>\n",
       "      <td>1</td>\n",
       "      <td>0</td>\n",
       "      <td>0</td>\n",
       "      <td>You are charged $20 if you drop off after hour...</td>\n",
       "      <td>2019-09-10 01:44:54</td>\n",
       "    </tr>\n",
       "    <tr>\n",
       "      <th>499987</th>\n",
       "      <td>4-cuffTHQK0y6LUJcSLwrA</td>\n",
       "      <td>wyvv6hQ9yqjgLtU78zjTog</td>\n",
       "      <td>VX7GkJDnhPG8NmrdO1V-6Q</td>\n",
       "      <td>3.0</td>\n",
       "      <td>0</td>\n",
       "      <td>0</td>\n",
       "      <td>0</td>\n",
       "      <td>The food here is very average. It's the type o...</td>\n",
       "      <td>2021-02-08 18:19:47</td>\n",
       "    </tr>\n",
       "    <tr>\n",
       "      <th>499989</th>\n",
       "      <td>hah252tBUCFjUwSGADgr8g</td>\n",
       "      <td>CzttMxMc3IC33b4fY8emHA</td>\n",
       "      <td>rcJnKmhgSPb8BmK3d6AZYQ</td>\n",
       "      <td>3.0</td>\n",
       "      <td>1</td>\n",
       "      <td>0</td>\n",
       "      <td>0</td>\n",
       "      <td>I came here for a mani/pedi. My nails lasted f...</td>\n",
       "      <td>2018-07-01 12:48:51</td>\n",
       "    </tr>\n",
       "    <tr>\n",
       "      <th>499991</th>\n",
       "      <td>aFPIbN3aj5pN0RmlUDkmgw</td>\n",
       "      <td>r_jYtiPrYxXHDlEZCgJsTw</td>\n",
       "      <td>AHAPYD1ADG6MD8RB1LprWA</td>\n",
       "      <td>1.0</td>\n",
       "      <td>6</td>\n",
       "      <td>5</td>\n",
       "      <td>0</td>\n",
       "      <td>I asked if there was a minimum about of hours ...</td>\n",
       "      <td>2011-08-08 14:22:39</td>\n",
       "    </tr>\n",
       "    <tr>\n",
       "      <th>499998</th>\n",
       "      <td>Lohri9uZyvoNnH5z_NT6DA</td>\n",
       "      <td>vn777Y2vCynYYUYJjNYdYg</td>\n",
       "      <td>gfPDLZimZu1NtBIDbeXetg</td>\n",
       "      <td>2.0</td>\n",
       "      <td>1</td>\n",
       "      <td>0</td>\n",
       "      <td>0</td>\n",
       "      <td>Saw the reviews so thought I'd try this place....</td>\n",
       "      <td>2019-04-16 23:28:41</td>\n",
       "    </tr>\n",
       "  </tbody>\n",
       "</table>\n",
       "<p>156678 rows × 9 columns</p>\n",
       "</div>"
      ]
     },
     "execution_count": 4,
     "metadata": {},
     "output_type": "execute_result"
    }
   ],
   "execution_count": 4
  },
  {
   "metadata": {
    "ExecuteTime": {
     "end_time": "2024-04-21T17:30:56.043385Z",
     "start_time": "2024-04-21T17:30:54.433308Z"
    }
   },
   "cell_type": "code",
   "source": [
    "df['business_id'].nunique()\n",
    "df.drop(['date'], axis=1, inplace=True)\n",
    "\n",
    "\n",
    "# Define a function to count words in a text\n",
    "def word_count(text):\n",
    "    return len(text.split())\n",
    "\n",
    "\n",
    "# Apply the function to the 'text' column and filter rows\n",
    "df = df[df['text'].apply(word_count).between(10, 150)]\n",
    "\n",
    "# Filter businesses with more than 4 reviews\n",
    "review_counts = df['business_id'].value_counts()\n",
    "businesses_with_enough_reviews = review_counts[review_counts >= 4].index\n",
    "df = df[df['business_id'].isin(businesses_with_enough_reviews)]\n",
    "\n",
    "# Group the DataFrame by 'Product' and count the number of reviews for each product\n",
    "df_rc = df.groupby('business_id').size().reset_index(name='Review Count')\n",
    "df_rc = df_rc.sort_values(by='Review Count', ascending=False)"
   ],
   "id": "1b2f4fcfd0598f71",
   "outputs": [
    {
     "name": "stderr",
     "output_type": "stream",
     "text": [
      "C:\\Users\\aks50\\AppData\\Local\\Temp\\ipykernel_7396\\3030980276.py:2: SettingWithCopyWarning: \n",
      "A value is trying to be set on a copy of a slice from a DataFrame\n",
      "\n",
      "See the caveats in the documentation: https://pandas.pydata.org/pandas-docs/stable/user_guide/indexing.html#returning-a-view-versus-a-copy\n",
      "  df.drop(['date'], axis=1, inplace=True)\n"
     ]
    }
   ],
   "execution_count": 5
  },
  {
   "metadata": {
    "ExecuteTime": {
     "end_time": "2024-04-21T17:31:53.439445Z",
     "start_time": "2024-04-21T17:31:53.414445Z"
    }
   },
   "cell_type": "code",
   "source": "df_rc",
   "id": "54dbd359bb2254c8",
   "outputs": [
    {
     "data": {
      "text/plain": [
       "                 business_id  Review Count\n",
       "1586  GBTPC53ZrG1ZBY3DT8Mbcw           554\n",
       "2298  ORL4JE6tz3rJxVqkdKfegA           399\n",
       "3947  g04aAvgol7IW8buqSbT4xA           377\n",
       "2622  SZU9c8V2GuREDN5KgyHFJw           372\n",
       "4748  pSmOH4a3HNNpYM82J5ycLA           368\n",
       "...                      ...           ...\n",
       "1787  ISBBeqLeERHiKfqa7PZkuA             4\n",
       "1798  IZ_syZp77K1ewunXZlVEcA             4\n",
       "4672  oQYZ3j2H758y07p4RpCWug             4\n",
       "4671  oQPt--Rxt1yYbVKOoSZVFA             4\n",
       "5765  zzIF9qp2UoHN48EeZH_IDg             4\n",
       "\n",
       "[5766 rows x 2 columns]"
      ],
      "text/html": [
       "<div>\n",
       "<style scoped>\n",
       "    .dataframe tbody tr th:only-of-type {\n",
       "        vertical-align: middle;\n",
       "    }\n",
       "\n",
       "    .dataframe tbody tr th {\n",
       "        vertical-align: top;\n",
       "    }\n",
       "\n",
       "    .dataframe thead th {\n",
       "        text-align: right;\n",
       "    }\n",
       "</style>\n",
       "<table border=\"1\" class=\"dataframe\">\n",
       "  <thead>\n",
       "    <tr style=\"text-align: right;\">\n",
       "      <th></th>\n",
       "      <th>business_id</th>\n",
       "      <th>Review Count</th>\n",
       "    </tr>\n",
       "  </thead>\n",
       "  <tbody>\n",
       "    <tr>\n",
       "      <th>1586</th>\n",
       "      <td>GBTPC53ZrG1ZBY3DT8Mbcw</td>\n",
       "      <td>554</td>\n",
       "    </tr>\n",
       "    <tr>\n",
       "      <th>2298</th>\n",
       "      <td>ORL4JE6tz3rJxVqkdKfegA</td>\n",
       "      <td>399</td>\n",
       "    </tr>\n",
       "    <tr>\n",
       "      <th>3947</th>\n",
       "      <td>g04aAvgol7IW8buqSbT4xA</td>\n",
       "      <td>377</td>\n",
       "    </tr>\n",
       "    <tr>\n",
       "      <th>2622</th>\n",
       "      <td>SZU9c8V2GuREDN5KgyHFJw</td>\n",
       "      <td>372</td>\n",
       "    </tr>\n",
       "    <tr>\n",
       "      <th>4748</th>\n",
       "      <td>pSmOH4a3HNNpYM82J5ycLA</td>\n",
       "      <td>368</td>\n",
       "    </tr>\n",
       "    <tr>\n",
       "      <th>...</th>\n",
       "      <td>...</td>\n",
       "      <td>...</td>\n",
       "    </tr>\n",
       "    <tr>\n",
       "      <th>1787</th>\n",
       "      <td>ISBBeqLeERHiKfqa7PZkuA</td>\n",
       "      <td>4</td>\n",
       "    </tr>\n",
       "    <tr>\n",
       "      <th>1798</th>\n",
       "      <td>IZ_syZp77K1ewunXZlVEcA</td>\n",
       "      <td>4</td>\n",
       "    </tr>\n",
       "    <tr>\n",
       "      <th>4672</th>\n",
       "      <td>oQYZ3j2H758y07p4RpCWug</td>\n",
       "      <td>4</td>\n",
       "    </tr>\n",
       "    <tr>\n",
       "      <th>4671</th>\n",
       "      <td>oQPt--Rxt1yYbVKOoSZVFA</td>\n",
       "      <td>4</td>\n",
       "    </tr>\n",
       "    <tr>\n",
       "      <th>5765</th>\n",
       "      <td>zzIF9qp2UoHN48EeZH_IDg</td>\n",
       "      <td>4</td>\n",
       "    </tr>\n",
       "  </tbody>\n",
       "</table>\n",
       "<p>5766 rows × 2 columns</p>\n",
       "</div>"
      ]
     },
     "execution_count": 8,
     "metadata": {},
     "output_type": "execute_result"
    }
   ],
   "execution_count": 8
  },
  {
   "metadata": {
    "ExecuteTime": {
     "end_time": "2024-04-21T17:32:54.451765Z",
     "start_time": "2024-04-21T17:32:54.416766Z"
    }
   },
   "cell_type": "code",
   "source": [
    "# Specify the restaurant ID\n",
    "restaurant_id = '62pABDhLkUPAcNgxum_mpw'\n",
    "\n",
    "# Filter reviews for the specific restaurant\n",
    "restaurant_reviews = df[df['business_id'] == restaurant_id]"
   ],
   "id": "1d2c5d900cfca9b3",
   "outputs": [],
   "execution_count": 9
  },
  {
   "metadata": {
    "ExecuteTime": {
     "end_time": "2024-04-21T17:32:54.912802Z",
     "start_time": "2024-04-21T17:32:54.894800Z"
    }
   },
   "cell_type": "code",
   "source": [
    "# Assuming the reviews are in a column named 'text'\n",
    "restaurant_reviews = restaurant_reviews['text'].tolist()\n",
    "restaurant_reviews"
   ],
   "id": "77c27cfedf8e8b56",
   "outputs": [
    {
     "data": {
      "text/plain": [
       "['Great ambience. Went there for lunch with family. Good service. Very limited menu. Food was good. We had ordered several salads and Tuna Burger.',\n",
       " 'If you like total salt and sodium infused food, then this is the place to go. I kid you not. I do not believe the food at this restaurant is freshly prepared. We were in shock at the salt factor and the $122.00 tab. Will never go again..',\n",
       " 'Charming interior, but hit-or-miss on the food.  The Poulet de Bergerac was good, imagine a Beef Wellington but with chicken.  Unfortunately the crab cakes were not good.  When a menu in St. Louis describes \"lump\" for a crab cake, I expect lump; there was no lump in evidence here, instead the crab cake contained bits of shell.  Portions for the meat are huge -- in particular the rack of lamb lasted three meals.',\n",
       " \"Bummer of an experience. The salad was uninspiring and the lamb was overdone and paired with mashed potatoes that were drowned in a salty gravy that reminded me of my mom's pot roast, not French fare. I had to choke it down.\\n\\nI knew I was in for a poor experience when the bread came out soft and yellow, covered in salt and paired with...butter! I thought it was a wedge of cheese. Duh was I wrong. Americans...sigh.\\n\\nI guess I'm doomed to lame bread until I can return to France again.\\n\\nI will not be returning.\",\n",
       " 'The meal here definitely did not meet my expectations of a French cafe. We started with the pate - when I asked the waiter how it compared to a real fois gras he had no idea what I was talking about.  It came as several large slices of a very bland \"liver loaf\" with not enough crackers or accoutrements to match the admittedly generous pate portion.  Scallops were bland, and the pork grille that I ordered reminded me of a bland swiss steak made with pork loin.  Service was unremarkable - the waiter was of the Gen x \"no problem\" mentality, and even though when making the reservation I mentioned that it was my wife\\'s birthday, and it was mentioned during the appetizer course as well, no acknowledgement of any kind was provided.  All in all a most unremarkable experience and one I will not willingly repeat.',\n",
       " 'Restaurant was uncomfortably hot.  Crab cakes and scallops lacked flavor.  Chicken dish was large and heavy- ugh.  We left some of each course, including dessert, which is a rarity.   One time and done for me.',\n",
       " 'I was in St. Louis on business and brought a customer here based on the good reviews.  Unfortunately, I was not impressed.\\n\\nThe atmosphere is quaint and cute especially for two ladies having lunch and when they tried putting us at  tiny tiny little two top, I balked and they were able to put us at one of the few four tops so I could spread out with my papers.  The service was ok but the food was not.\\n\\nWe both ordered the ahi tuna salad and both were waaaaay over cooked.  We both left most of it without saying anything about it.  Then we shared the creme brulee and again, it was overcooked.  Curdled like texture.  Not creamy.  Not good.  Too bad.',\n",
       " \"The lunch menu boasts: 'Voted best Rueban (sp)'.  Indeed, the Reuben used to be great.  Flavorful corned beef on thick,  fresh marble rye. \\nNow it is terrible.  Rubbery ham-like meat on plain, thin, over-toasted bread.     \\nVery, very disappointing.  Almost thought we were being punked. \\n\\nThe menu also claims 'absolutely the best burger anywhere'.   No, no, no... it is not.  \\nEdible, but not in the same league as Truffles, 5 Star, Olive & Oak, Bailey's Range, Sugarfire, Flemings, Annie Gunns, Hi Pointe, etc.\\n\\nThe Pomme Frites are good. \\n\\nMaybe this 'French' cafe should stick to the cuisine of Provence and not botch New York Deli sandwiches or burgers.\",\n",
       " \"I had dinner with a group last night & my companions all enjoyed their food very much.  The service was great.  \\n\\nHowever, I am a vegetarian & the only entree option offered to me was a salad.  I've been to many fine dining establishments where the chef has offered to make a vegetarian dish, but was not offered that here.  In addition, their Wild Mushroom soup, which could have easily been made vegetarian, was made with chicken stock.  What the heck?\",\n",
       " \"Food was fine, but a couple of issues -\\nOnly had three Michelob Ultras in restaurant, there were several of us that drink that brand.  We had to switch. So we switched to Bud Light.  Waitress brought those and they were warm. So we sent those back. \\nWe had a table of eight and they crammed two tables of eight in a small area by the front.  The backs of our chairs were touching.  There were other tables available that could have been pushed together.  The waitress had to serve us our food over a half wall which was ridiculous. That's is not how you serve people.\"]"
      ]
     },
     "execution_count": 10,
     "metadata": {},
     "output_type": "execute_result"
    }
   ],
   "execution_count": 10
  },
  {
   "metadata": {
    "ExecuteTime": {
     "end_time": "2024-04-21T17:32:59.528598Z",
     "start_time": "2024-04-21T17:32:59.511597Z"
    }
   },
   "cell_type": "code",
   "source": [
    "# Assuming restaurant_reviews is a list of strings (each string is a review)\n",
    "cleaned_summary = ' '.join(restaurant_reviews).replace('\\n', ' ')\n",
    "print(cleaned_summary)"
   ],
   "id": "b9c6127077e01096",
   "outputs": [
    {
     "name": "stdout",
     "output_type": "stream",
     "text": [
      "Great ambience. Went there for lunch with family. Good service. Very limited menu. Food was good. We had ordered several salads and Tuna Burger. If you like total salt and sodium infused food, then this is the place to go. I kid you not. I do not believe the food at this restaurant is freshly prepared. We were in shock at the salt factor and the $122.00 tab. Will never go again.. Charming interior, but hit-or-miss on the food.  The Poulet de Bergerac was good, imagine a Beef Wellington but with chicken.  Unfortunately the crab cakes were not good.  When a menu in St. Louis describes \"lump\" for a crab cake, I expect lump; there was no lump in evidence here, instead the crab cake contained bits of shell.  Portions for the meat are huge -- in particular the rack of lamb lasted three meals. Bummer of an experience. The salad was uninspiring and the lamb was overdone and paired with mashed potatoes that were drowned in a salty gravy that reminded me of my mom's pot roast, not French fare. I had to choke it down.  I knew I was in for a poor experience when the bread came out soft and yellow, covered in salt and paired with...butter! I thought it was a wedge of cheese. Duh was I wrong. Americans...sigh.  I guess I'm doomed to lame bread until I can return to France again.  I will not be returning. The meal here definitely did not meet my expectations of a French cafe. We started with the pate - when I asked the waiter how it compared to a real fois gras he had no idea what I was talking about.  It came as several large slices of a very bland \"liver loaf\" with not enough crackers or accoutrements to match the admittedly generous pate portion.  Scallops were bland, and the pork grille that I ordered reminded me of a bland swiss steak made with pork loin.  Service was unremarkable - the waiter was of the Gen x \"no problem\" mentality, and even though when making the reservation I mentioned that it was my wife's birthday, and it was mentioned during the appetizer course as well, no acknowledgement of any kind was provided.  All in all a most unremarkable experience and one I will not willingly repeat. Restaurant was uncomfortably hot.  Crab cakes and scallops lacked flavor.  Chicken dish was large and heavy- ugh.  We left some of each course, including dessert, which is a rarity.   One time and done for me. I was in St. Louis on business and brought a customer here based on the good reviews.  Unfortunately, I was not impressed.  The atmosphere is quaint and cute especially for two ladies having lunch and when they tried putting us at  tiny tiny little two top, I balked and they were able to put us at one of the few four tops so I could spread out with my papers.  The service was ok but the food was not.  We both ordered the ahi tuna salad and both were waaaaay over cooked.  We both left most of it without saying anything about it.  Then we shared the creme brulee and again, it was overcooked.  Curdled like texture.  Not creamy.  Not good.  Too bad. The lunch menu boasts: 'Voted best Rueban (sp)'.  Indeed, the Reuben used to be great.  Flavorful corned beef on thick,  fresh marble rye.  Now it is terrible.  Rubbery ham-like meat on plain, thin, over-toasted bread.      Very, very disappointing.  Almost thought we were being punked.   The menu also claims 'absolutely the best burger anywhere'.   No, no, no... it is not.   Edible, but not in the same league as Truffles, 5 Star, Olive & Oak, Bailey's Range, Sugarfire, Flemings, Annie Gunns, Hi Pointe, etc.  The Pomme Frites are good.   Maybe this 'French' cafe should stick to the cuisine of Provence and not botch New York Deli sandwiches or burgers. I had dinner with a group last night & my companions all enjoyed their food very much.  The service was great.    However, I am a vegetarian & the only entree option offered to me was a salad.  I've been to many fine dining establishments where the chef has offered to make a vegetarian dish, but was not offered that here.  In addition, their Wild Mushroom soup, which could have easily been made vegetarian, was made with chicken stock.  What the heck? Food was fine, but a couple of issues - Only had three Michelob Ultras in restaurant, there were several of us that drink that brand.  We had to switch. So we switched to Bud Light.  Waitress brought those and they were warm. So we sent those back.  We had a table of eight and they crammed two tables of eight in a small area by the front.  The backs of our chairs were touching.  There were other tables available that could have been pushed together.  The waitress had to serve us our food over a half wall which was ridiculous. That's is not how you serve people.\n"
     ]
    }
   ],
   "execution_count": 11
  },
  {
   "metadata": {
    "ExecuteTime": {
     "end_time": "2024-04-21T17:32:59.861622Z",
     "start_time": "2024-04-21T17:32:59.785619Z"
    }
   },
   "cell_type": "code",
   "source": [
    "from vaderSentiment.vaderSentiment import SentimentIntensityAnalyzer\n",
    "\n",
    "# Initialize lists to hold separated content\n",
    "damaging_content = []\n",
    "legitimate_content = []\n",
    "\n",
    "# Initialize VADER sentiment analyzer\n",
    "analyzer = SentimentIntensityAnalyzer()\n",
    "\n",
    "# Define a threshold for negative sentiment\n",
    "negative_threshold = -0.9  # Adjusted for VADER's compound score range which is from -1 to 1\n",
    "\n",
    "# Analyze each review\n",
    "for review in restaurant_reviews:\n",
    "    vs = analyzer.polarity_scores(review)\n",
    "    # Consider reviews with a compound score less than the threshold as damaging\n",
    "    if vs['compound'] < negative_threshold:\n",
    "        damaging_content.append(review)\n",
    "    else:\n",
    "        legitimate_content.append(review)\n",
    "\n",
    "# Output the results\n",
    "print(\"Damaging Content:\", damaging_content)"
   ],
   "id": "74ae3e56dd4c79d3",
   "outputs": [
    {
     "name": "stdout",
     "output_type": "stream",
     "text": [
      "Damaging Content: [\"Bummer of an experience. The salad was uninspiring and the lamb was overdone and paired with mashed potatoes that were drowned in a salty gravy that reminded me of my mom's pot roast, not French fare. I had to choke it down.\\n\\nI knew I was in for a poor experience when the bread came out soft and yellow, covered in salt and paired with...butter! I thought it was a wedge of cheese. Duh was I wrong. Americans...sigh.\\n\\nI guess I'm doomed to lame bread until I can return to France again.\\n\\nI will not be returning.\"]\n"
     ]
    }
   ],
   "execution_count": 12
  },
  {
   "metadata": {
    "ExecuteTime": {
     "end_time": "2024-04-21T17:33:05.285443Z",
     "start_time": "2024-04-21T17:33:05.269809Z"
    }
   },
   "cell_type": "code",
   "source": "damaging_content_str = ' '.join(damaging_content).replace('\\n', ' ')",
   "id": "34f33d1d58e4946b",
   "outputs": [],
   "execution_count": 13
  },
  {
   "metadata": {
    "ExecuteTime": {
     "end_time": "2024-04-21T17:33:05.680193Z",
     "start_time": "2024-04-21T17:33:05.648935Z"
    }
   },
   "cell_type": "code",
   "source": "print(\"Legitimate Content:\", legitimate_content)",
   "id": "6f08fcaf0f3ec8ab",
   "outputs": [
    {
     "name": "stdout",
     "output_type": "stream",
     "text": [
      "Legitimate Content: ['Great ambience. Went there for lunch with family. Good service. Very limited menu. Food was good. We had ordered several salads and Tuna Burger.', 'If you like total salt and sodium infused food, then this is the place to go. I kid you not. I do not believe the food at this restaurant is freshly prepared. We were in shock at the salt factor and the $122.00 tab. Will never go again..', 'Charming interior, but hit-or-miss on the food.  The Poulet de Bergerac was good, imagine a Beef Wellington but with chicken.  Unfortunately the crab cakes were not good.  When a menu in St. Louis describes \"lump\" for a crab cake, I expect lump; there was no lump in evidence here, instead the crab cake contained bits of shell.  Portions for the meat are huge -- in particular the rack of lamb lasted three meals.', 'The meal here definitely did not meet my expectations of a French cafe. We started with the pate - when I asked the waiter how it compared to a real fois gras he had no idea what I was talking about.  It came as several large slices of a very bland \"liver loaf\" with not enough crackers or accoutrements to match the admittedly generous pate portion.  Scallops were bland, and the pork grille that I ordered reminded me of a bland swiss steak made with pork loin.  Service was unremarkable - the waiter was of the Gen x \"no problem\" mentality, and even though when making the reservation I mentioned that it was my wife\\'s birthday, and it was mentioned during the appetizer course as well, no acknowledgement of any kind was provided.  All in all a most unremarkable experience and one I will not willingly repeat.', 'Restaurant was uncomfortably hot.  Crab cakes and scallops lacked flavor.  Chicken dish was large and heavy- ugh.  We left some of each course, including dessert, which is a rarity.   One time and done for me.', 'I was in St. Louis on business and brought a customer here based on the good reviews.  Unfortunately, I was not impressed.\\n\\nThe atmosphere is quaint and cute especially for two ladies having lunch and when they tried putting us at  tiny tiny little two top, I balked and they were able to put us at one of the few four tops so I could spread out with my papers.  The service was ok but the food was not.\\n\\nWe both ordered the ahi tuna salad and both were waaaaay over cooked.  We both left most of it without saying anything about it.  Then we shared the creme brulee and again, it was overcooked.  Curdled like texture.  Not creamy.  Not good.  Too bad.', \"The lunch menu boasts: 'Voted best Rueban (sp)'.  Indeed, the Reuben used to be great.  Flavorful corned beef on thick,  fresh marble rye. \\nNow it is terrible.  Rubbery ham-like meat on plain, thin, over-toasted bread.     \\nVery, very disappointing.  Almost thought we were being punked. \\n\\nThe menu also claims 'absolutely the best burger anywhere'.   No, no, no... it is not.  \\nEdible, but not in the same league as Truffles, 5 Star, Olive & Oak, Bailey's Range, Sugarfire, Flemings, Annie Gunns, Hi Pointe, etc.\\n\\nThe Pomme Frites are good. \\n\\nMaybe this 'French' cafe should stick to the cuisine of Provence and not botch New York Deli sandwiches or burgers.\", \"I had dinner with a group last night & my companions all enjoyed their food very much.  The service was great.  \\n\\nHowever, I am a vegetarian & the only entree option offered to me was a salad.  I've been to many fine dining establishments where the chef has offered to make a vegetarian dish, but was not offered that here.  In addition, their Wild Mushroom soup, which could have easily been made vegetarian, was made with chicken stock.  What the heck?\", \"Food was fine, but a couple of issues -\\nOnly had three Michelob Ultras in restaurant, there were several of us that drink that brand.  We had to switch. So we switched to Bud Light.  Waitress brought those and they were warm. So we sent those back. \\nWe had a table of eight and they crammed two tables of eight in a small area by the front.  The backs of our chairs were touching.  There were other tables available that could have been pushed together.  The waitress had to serve us our food over a half wall which was ridiculous. That's is not how you serve people.\"]\n"
     ]
    }
   ],
   "execution_count": 14
  },
  {
   "metadata": {
    "ExecuteTime": {
     "end_time": "2024-04-21T17:33:10.619614Z",
     "start_time": "2024-04-21T17:33:10.605630Z"
    }
   },
   "cell_type": "code",
   "source": "legitimate_content_str = ' '.join(legitimate_content).replace('\\n', ' ')",
   "id": "b54425ea08a087e",
   "outputs": [],
   "execution_count": 15
  },
  {
   "metadata": {
    "ExecuteTime": {
     "end_time": "2024-04-21T17:33:28.182806Z",
     "start_time": "2024-04-21T17:33:16.167543Z"
    }
   },
   "cell_type": "code",
   "source": [
    "from transformers import T5Tokenizer, T5ForConditionalGeneration\n",
    "\n",
    "# Load the pre-trained T5 model and tokenizer\n",
    "model_name = \"t5-small\"\n",
    "tokenizer = T5Tokenizer.from_pretrained(model_name)\n",
    "model = T5ForConditionalGeneration.from_pretrained(model_name)"
   ],
   "id": "fe27ad74650c6f67",
   "outputs": [
    {
     "name": "stderr",
     "output_type": "stream",
     "text": [
      "You are using the default legacy behaviour of the <class 'transformers.models.t5.tokenization_t5.T5Tokenizer'>. This is expected, and simply means that the `legacy` (previous) behavior will be used so nothing changes for you. If you want to use the new behaviour, set `legacy=False`. This should only be set if you understand what it means, and thoroughly read the reason why this was added as explained in https://github.com/huggingface/transformers/pull/24565\n",
      "Special tokens have been added in the vocabulary, make sure the associated word embeddings are fine-tuned or trained.\n"
     ]
    }
   ],
   "execution_count": 16
  },
  {
   "metadata": {
    "ExecuteTime": {
     "end_time": "2024-04-21T17:33:28.198442Z",
     "start_time": "2024-04-21T17:33:28.182806Z"
    }
   },
   "cell_type": "code",
   "source": [
    "def generate_summary(text, max_length=1024, min_length=100):  # Increased min_length\n",
    "    input_ids = tokenizer.encode(\"summarize: \" + text, return_tensors=\"pt\", max_length=1024, truncation=True)\n",
    "\n",
    "    summary_ids = model.generate(\n",
    "        input_ids, \n",
    "        max_length=max_length, \n",
    "        min_length=min_length, \n",
    "        num_beams=4, \n",
    "        early_stopping=True\n",
    "    )\n",
    "\n",
    "    summary = tokenizer.decode(summary_ids[0], skip_special_tokens=True)\n",
    "    return summary"
   ],
   "id": "3ab4665d0a61526b",
   "outputs": [],
   "execution_count": 17
  },
  {
   "metadata": {
    "ExecuteTime": {
     "end_time": "2024-04-21T17:33:40.815959Z",
     "start_time": "2024-04-21T17:33:28.198442Z"
    }
   },
   "cell_type": "code",
   "source": "summary = generate_summary(cleaned_summary)",
   "id": "ded98922be3f1788",
   "outputs": [],
   "execution_count": 18
  },
  {
   "metadata": {
    "ExecuteTime": {
     "end_time": "2024-04-21T17:33:40.831965Z",
     "start_time": "2024-04-21T17:33:40.818960Z"
    }
   },
   "cell_type": "code",
   "source": "summary",
   "id": "c7542edba418a4f6",
   "outputs": [
    {
     "data": {
      "text/plain": [
       "\"the menu was uncomfortably hot, and the pork grille reminded me of a bland swiss steak made with pork loin. the menu boasts: 'Voted best Rueban (sp)' but not in the same league as Truffles, 5 Star, olive & Oak, Bailey's Range, Sugarfire, Flemings, Annie Gunns, Hi Pointe, etc..\""
      ]
     },
     "execution_count": 19,
     "metadata": {},
     "output_type": "execute_result"
    }
   ],
   "execution_count": 19
  },
  {
   "metadata": {
    "ExecuteTime": {
     "end_time": "2024-04-21T17:33:40.895974Z",
     "start_time": "2024-04-21T17:33:40.833964Z"
    }
   },
   "cell_type": "code",
   "source": [
    "from rouge import Rouge\n",
    "\n",
    "rouge = Rouge()\n",
    "\n",
    "# Calculate ROUGE scores\n",
    "scores = rouge.get_scores(summary, cleaned_summary)\n",
    "\n",
    "# Print the results\n",
    "print(\"ROUGE scores:\", scores)"
   ],
   "id": "f2d7be4cdbddf1ef",
   "outputs": [
    {
     "name": "stdout",
     "output_type": "stream",
     "text": [
      "ROUGE scores: [{'rouge-1': {'r': 0.09230769230769231, 'p': 0.9545454545454546, 'f': 0.16833667173866773}, 'rouge-2': {'r': 0.04804045512010114, 'p': 0.8085106382978723, 'f': 0.09069212304620618}, 'rouge-l': {'r': 0.09230769230769231, 'p': 0.9545454545454546, 'f': 0.16833667173866773}}]\n"
     ]
    }
   ],
   "execution_count": 20
  },
  {
   "metadata": {},
   "cell_type": "code",
   "outputs": [],
   "execution_count": null,
   "source": "",
   "id": "60a447cc0bdab87c"
  }
 ],
 "metadata": {
  "kernelspec": {
   "display_name": "Python 3",
   "language": "python",
   "name": "python3"
  },
  "language_info": {
   "codemirror_mode": {
    "name": "ipython",
    "version": 2
   },
   "file_extension": ".py",
   "mimetype": "text/x-python",
   "name": "python",
   "nbconvert_exporter": "python",
   "pygments_lexer": "ipython2",
   "version": "2.7.6"
  }
 },
 "nbformat": 4,
 "nbformat_minor": 5
}
