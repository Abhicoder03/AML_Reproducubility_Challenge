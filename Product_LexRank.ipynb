{
 "cells": [
  {
   "cell_type": "code",
   "execution_count": 12,
   "id": "d3cd61d9",
   "metadata": {},
   "outputs": [],
   "source": [
    "import pandas as pd\n",
    "df = pd.read_csv('DATA.csv')"
   ]
  },
  {
   "cell_type": "code",
   "execution_count": 13,
   "id": "bc470841",
   "metadata": {},
   "outputs": [
    {
     "data": {
      "text/html": [
       "<div>\n",
       "<style scoped>\n",
       "    .dataframe tbody tr th:only-of-type {\n",
       "        vertical-align: middle;\n",
       "    }\n",
       "\n",
       "    .dataframe tbody tr th {\n",
       "        vertical-align: top;\n",
       "    }\n",
       "\n",
       "    .dataframe thead th {\n",
       "        text-align: right;\n",
       "    }\n",
       "</style>\n",
       "<table border=\"1\" class=\"dataframe\">\n",
       "  <thead>\n",
       "    <tr style=\"text-align: right;\">\n",
       "      <th></th>\n",
       "      <th>group_id</th>\n",
       "      <th>review_text</th>\n",
       "      <th>category</th>\n",
       "    </tr>\n",
       "  </thead>\n",
       "  <tbody>\n",
       "    <tr>\n",
       "      <th>0</th>\n",
       "      <td>097968191X</td>\n",
       "      <td>I purchased this after I saw that another stud...</td>\n",
       "      <td>health_and_personal_care</td>\n",
       "    </tr>\n",
       "    <tr>\n",
       "      <th>1</th>\n",
       "      <td>097968191X</td>\n",
       "      <td>This is a very useful clipboard , &amp; portable.I...</td>\n",
       "      <td>health_and_personal_care</td>\n",
       "    </tr>\n",
       "    <tr>\n",
       "      <th>2</th>\n",
       "      <td>097968191X</td>\n",
       "      <td>Excellant and helpful product . A lot of the D...</td>\n",
       "      <td>health_and_personal_care</td>\n",
       "    </tr>\n",
       "    <tr>\n",
       "      <th>3</th>\n",
       "      <td>097968191X</td>\n",
       "      <td>I like this clipboard very much . It is handy ...</td>\n",
       "      <td>health_and_personal_care</td>\n",
       "    </tr>\n",
       "    <tr>\n",
       "      <th>4</th>\n",
       "      <td>097968191X</td>\n",
       "      <td>Very nice , I use it everyday at work and I am...</td>\n",
       "      <td>health_and_personal_care</td>\n",
       "    </tr>\n",
       "    <tr>\n",
       "      <th>5</th>\n",
       "      <td>097968191X</td>\n",
       "      <td>Really good but price is a lil moreworks bette...</td>\n",
       "      <td>health_and_personal_care</td>\n",
       "    </tr>\n",
       "    <tr>\n",
       "      <th>6</th>\n",
       "      <td>097968191X</td>\n",
       "      <td>I bought this about a month ago and it has pro...</td>\n",
       "      <td>health_and_personal_care</td>\n",
       "    </tr>\n",
       "    <tr>\n",
       "      <th>7</th>\n",
       "      <td>097968191X</td>\n",
       "      <td>The clipboard works very well , I use it as my...</td>\n",
       "      <td>health_and_personal_care</td>\n",
       "    </tr>\n",
       "    <tr>\n",
       "      <th>8</th>\n",
       "      <td>097968191X</td>\n",
       "      <td>Great product , very handy , lightweight.Now I...</td>\n",
       "      <td>health_and_personal_care</td>\n",
       "    </tr>\n",
       "    <tr>\n",
       "      <th>9</th>\n",
       "      <td>097968191X</td>\n",
       "      <td>Handy clipboard that conveniently fits in the ...</td>\n",
       "      <td>health_and_personal_care</td>\n",
       "    </tr>\n",
       "    <tr>\n",
       "      <th>10</th>\n",
       "      <td>097968191X</td>\n",
       "      <td>I love this clip board . I work on an ambulanc...</td>\n",
       "      <td>health_and_personal_care</td>\n",
       "    </tr>\n",
       "    <tr>\n",
       "      <th>11</th>\n",
       "      <td>097968191X</td>\n",
       "      <td>love my clipboard ! I haven 't lost my \" brai...</td>\n",
       "      <td>health_and_personal_care</td>\n",
       "    </tr>\n",
       "    <tr>\n",
       "      <th>12</th>\n",
       "      <td>097968191X</td>\n",
       "      <td>Love this clipboard . I carry one daily and ha...</td>\n",
       "      <td>health_and_personal_care</td>\n",
       "    </tr>\n",
       "    <tr>\n",
       "      <th>13</th>\n",
       "      <td>097968191X</td>\n",
       "      <td>Works very well . I agree with other reviewer ...</td>\n",
       "      <td>health_and_personal_care</td>\n",
       "    </tr>\n",
       "    <tr>\n",
       "      <th>14</th>\n",
       "      <td>097968191X</td>\n",
       "      <td>fits perfectly in your white coat ... these ha...</td>\n",
       "      <td>health_and_personal_care</td>\n",
       "    </tr>\n",
       "    <tr>\n",
       "      <th>15</th>\n",
       "      <td>097968191X</td>\n",
       "      <td>Love it ! It 's very helpful in the hospital w...</td>\n",
       "      <td>health_and_personal_care</td>\n",
       "    </tr>\n",
       "    <tr>\n",
       "      <th>16</th>\n",
       "      <td>097968191X</td>\n",
       "      <td>Great for medical students and interns . Has g...</td>\n",
       "      <td>health_and_personal_care</td>\n",
       "    </tr>\n",
       "    <tr>\n",
       "      <th>17</th>\n",
       "      <td>097968191X</td>\n",
       "      <td>Cute clipboards . Fits in the pocket when fold...</td>\n",
       "      <td>health_and_personal_care</td>\n",
       "    </tr>\n",
       "    <tr>\n",
       "      <th>18</th>\n",
       "      <td>097968191X</td>\n",
       "      <td>It is very practical idea but it can not hold ...</td>\n",
       "      <td>health_and_personal_care</td>\n",
       "    </tr>\n",
       "    <tr>\n",
       "      <th>19</th>\n",
       "      <td>097968191X</td>\n",
       "      <td>I love this thing . I gave it 4 stars because ...</td>\n",
       "      <td>health_and_personal_care</td>\n",
       "    </tr>\n",
       "    <tr>\n",
       "      <th>20</th>\n",
       "      <td>097968191X</td>\n",
       "      <td>this product is very hand while on the floors ...</td>\n",
       "      <td>health_and_personal_care</td>\n",
       "    </tr>\n",
       "  </tbody>\n",
       "</table>\n",
       "</div>"
      ],
      "text/plain": [
       "      group_id                                        review_text  \\\n",
       "0   097968191X  I purchased this after I saw that another stud...   \n",
       "1   097968191X  This is a very useful clipboard , & portable.I...   \n",
       "2   097968191X  Excellant and helpful product . A lot of the D...   \n",
       "3   097968191X  I like this clipboard very much . It is handy ...   \n",
       "4   097968191X  Very nice , I use it everyday at work and I am...   \n",
       "5   097968191X  Really good but price is a lil moreworks bette...   \n",
       "6   097968191X  I bought this about a month ago and it has pro...   \n",
       "7   097968191X  The clipboard works very well , I use it as my...   \n",
       "8   097968191X  Great product , very handy , lightweight.Now I...   \n",
       "9   097968191X  Handy clipboard that conveniently fits in the ...   \n",
       "10  097968191X  I love this clip board . I work on an ambulanc...   \n",
       "11  097968191X   love my clipboard ! I haven 't lost my \" brai...   \n",
       "12  097968191X  Love this clipboard . I carry one daily and ha...   \n",
       "13  097968191X  Works very well . I agree with other reviewer ...   \n",
       "14  097968191X  fits perfectly in your white coat ... these ha...   \n",
       "15  097968191X  Love it ! It 's very helpful in the hospital w...   \n",
       "16  097968191X  Great for medical students and interns . Has g...   \n",
       "17  097968191X  Cute clipboards . Fits in the pocket when fold...   \n",
       "18  097968191X  It is very practical idea but it can not hold ...   \n",
       "19  097968191X  I love this thing . I gave it 4 stars because ...   \n",
       "20  097968191X  this product is very hand while on the floors ...   \n",
       "\n",
       "                    category  \n",
       "0   health_and_personal_care  \n",
       "1   health_and_personal_care  \n",
       "2   health_and_personal_care  \n",
       "3   health_and_personal_care  \n",
       "4   health_and_personal_care  \n",
       "5   health_and_personal_care  \n",
       "6   health_and_personal_care  \n",
       "7   health_and_personal_care  \n",
       "8   health_and_personal_care  \n",
       "9   health_and_personal_care  \n",
       "10  health_and_personal_care  \n",
       "11  health_and_personal_care  \n",
       "12  health_and_personal_care  \n",
       "13  health_and_personal_care  \n",
       "14  health_and_personal_care  \n",
       "15  health_and_personal_care  \n",
       "16  health_and_personal_care  \n",
       "17  health_and_personal_care  \n",
       "18  health_and_personal_care  \n",
       "19  health_and_personal_care  \n",
       "20  health_and_personal_care  "
      ]
     },
     "execution_count": 13,
     "metadata": {},
     "output_type": "execute_result"
    }
   ],
   "source": [
    "df"
   ]
  },
  {
   "cell_type": "code",
   "execution_count": 14,
   "id": "2a9d5d61",
   "metadata": {},
   "outputs": [
    {
     "data": {
      "text/plain": [
       "0     I purchased this after I saw that another stud...\n",
       "1     This is a very useful clipboard , & portable.I...\n",
       "2     Excellant and helpful product . A lot of the D...\n",
       "3     I like this clipboard very much . It is handy ...\n",
       "4     Very nice , I use it everyday at work and I am...\n",
       "5     Really good but price is a lil moreworks bette...\n",
       "6     I bought this about a month ago and it has pro...\n",
       "7     The clipboard works very well , I use it as my...\n",
       "8     Great product , very handy , lightweight.Now I...\n",
       "9     Handy clipboard that conveniently fits in the ...\n",
       "10    I love this clip board . I work on an ambulanc...\n",
       "11     love my clipboard ! I haven 't lost my \" brai...\n",
       "12    Love this clipboard . I carry one daily and ha...\n",
       "13    Works very well . I agree with other reviewer ...\n",
       "14    fits perfectly in your white coat ... these ha...\n",
       "15    Love it ! It 's very helpful in the hospital w...\n",
       "16    Great for medical students and interns . Has g...\n",
       "17    Cute clipboards . Fits in the pocket when fold...\n",
       "18    It is very practical idea but it can not hold ...\n",
       "19    I love this thing . I gave it 4 stars because ...\n",
       "20    this product is very hand while on the floors ...\n",
       "Name: review_text, dtype: object"
      ]
     },
     "execution_count": 14,
     "metadata": {},
     "output_type": "execute_result"
    }
   ],
   "source": [
    "df['review_text']"
   ]
  },
  {
   "cell_type": "code",
   "execution_count": 15,
   "id": "e5640a7d",
   "metadata": {},
   "outputs": [],
   "source": [
    "def calculate_word_count(review):\n",
    "    words = review.split()  # Split the review text into words\n",
    "    return len(words)  # Return the number of words in the review\n",
    "\n",
    "# Add a new column 'word_count' to store the word count of each review\n",
    "df['word_count'] = df['review_text'].apply(calculate_word_count)"
   ]
  },
  {
   "cell_type": "code",
   "execution_count": 16,
   "id": "5812e3bf",
   "metadata": {},
   "outputs": [
    {
     "data": {
      "text/html": [
       "<div>\n",
       "<style scoped>\n",
       "    .dataframe tbody tr th:only-of-type {\n",
       "        vertical-align: middle;\n",
       "    }\n",
       "\n",
       "    .dataframe tbody tr th {\n",
       "        vertical-align: top;\n",
       "    }\n",
       "\n",
       "    .dataframe thead th {\n",
       "        text-align: right;\n",
       "    }\n",
       "</style>\n",
       "<table border=\"1\" class=\"dataframe\">\n",
       "  <thead>\n",
       "    <tr style=\"text-align: right;\">\n",
       "      <th></th>\n",
       "      <th>group_id</th>\n",
       "      <th>review_text</th>\n",
       "      <th>category</th>\n",
       "      <th>word_count</th>\n",
       "    </tr>\n",
       "  </thead>\n",
       "  <tbody>\n",
       "    <tr>\n",
       "      <th>0</th>\n",
       "      <td>097968191X</td>\n",
       "      <td>I purchased this after I saw that another stud...</td>\n",
       "      <td>health_and_personal_care</td>\n",
       "      <td>46</td>\n",
       "    </tr>\n",
       "    <tr>\n",
       "      <th>1</th>\n",
       "      <td>097968191X</td>\n",
       "      <td>This is a very useful clipboard , &amp; portable.I...</td>\n",
       "      <td>health_and_personal_care</td>\n",
       "      <td>66</td>\n",
       "    </tr>\n",
       "    <tr>\n",
       "      <th>2</th>\n",
       "      <td>097968191X</td>\n",
       "      <td>Excellant and helpful product . A lot of the D...</td>\n",
       "      <td>health_and_personal_care</td>\n",
       "      <td>22</td>\n",
       "    </tr>\n",
       "    <tr>\n",
       "      <th>3</th>\n",
       "      <td>097968191X</td>\n",
       "      <td>I like this clipboard very much . It is handy ...</td>\n",
       "      <td>health_and_personal_care</td>\n",
       "      <td>42</td>\n",
       "    </tr>\n",
       "    <tr>\n",
       "      <th>4</th>\n",
       "      <td>097968191X</td>\n",
       "      <td>Very nice , I use it everyday at work and I am...</td>\n",
       "      <td>health_and_personal_care</td>\n",
       "      <td>20</td>\n",
       "    </tr>\n",
       "    <tr>\n",
       "      <th>5</th>\n",
       "      <td>097968191X</td>\n",
       "      <td>Really good but price is a lil moreworks bette...</td>\n",
       "      <td>health_and_personal_care</td>\n",
       "      <td>30</td>\n",
       "    </tr>\n",
       "    <tr>\n",
       "      <th>6</th>\n",
       "      <td>097968191X</td>\n",
       "      <td>I bought this about a month ago and it has pro...</td>\n",
       "      <td>health_and_personal_care</td>\n",
       "      <td>64</td>\n",
       "    </tr>\n",
       "    <tr>\n",
       "      <th>7</th>\n",
       "      <td>097968191X</td>\n",
       "      <td>The clipboard works very well , I use it as my...</td>\n",
       "      <td>health_and_personal_care</td>\n",
       "      <td>55</td>\n",
       "    </tr>\n",
       "    <tr>\n",
       "      <th>8</th>\n",
       "      <td>097968191X</td>\n",
       "      <td>Great product , very handy , lightweight.Now I...</td>\n",
       "      <td>health_and_personal_care</td>\n",
       "      <td>30</td>\n",
       "    </tr>\n",
       "    <tr>\n",
       "      <th>9</th>\n",
       "      <td>097968191X</td>\n",
       "      <td>Handy clipboard that conveniently fits in the ...</td>\n",
       "      <td>health_and_personal_care</td>\n",
       "      <td>25</td>\n",
       "    </tr>\n",
       "    <tr>\n",
       "      <th>10</th>\n",
       "      <td>097968191X</td>\n",
       "      <td>I love this clip board . I work on an ambulanc...</td>\n",
       "      <td>health_and_personal_care</td>\n",
       "      <td>25</td>\n",
       "    </tr>\n",
       "    <tr>\n",
       "      <th>11</th>\n",
       "      <td>097968191X</td>\n",
       "      <td>love my clipboard ! I haven 't lost my \" brai...</td>\n",
       "      <td>health_and_personal_care</td>\n",
       "      <td>67</td>\n",
       "    </tr>\n",
       "    <tr>\n",
       "      <th>12</th>\n",
       "      <td>097968191X</td>\n",
       "      <td>Love this clipboard . I carry one daily and ha...</td>\n",
       "      <td>health_and_personal_care</td>\n",
       "      <td>59</td>\n",
       "    </tr>\n",
       "    <tr>\n",
       "      <th>13</th>\n",
       "      <td>097968191X</td>\n",
       "      <td>Works very well . I agree with other reviewer ...</td>\n",
       "      <td>health_and_personal_care</td>\n",
       "      <td>67</td>\n",
       "    </tr>\n",
       "    <tr>\n",
       "      <th>14</th>\n",
       "      <td>097968191X</td>\n",
       "      <td>fits perfectly in your white coat ... these ha...</td>\n",
       "      <td>health_and_personal_care</td>\n",
       "      <td>23</td>\n",
       "    </tr>\n",
       "    <tr>\n",
       "      <th>15</th>\n",
       "      <td>097968191X</td>\n",
       "      <td>Love it ! It 's very helpful in the hospital w...</td>\n",
       "      <td>health_and_personal_care</td>\n",
       "      <td>23</td>\n",
       "    </tr>\n",
       "    <tr>\n",
       "      <th>16</th>\n",
       "      <td>097968191X</td>\n",
       "      <td>Great for medical students and interns . Has g...</td>\n",
       "      <td>health_and_personal_care</td>\n",
       "      <td>33</td>\n",
       "    </tr>\n",
       "    <tr>\n",
       "      <th>17</th>\n",
       "      <td>097968191X</td>\n",
       "      <td>Cute clipboards . Fits in the pocket when fold...</td>\n",
       "      <td>health_and_personal_care</td>\n",
       "      <td>22</td>\n",
       "    </tr>\n",
       "    <tr>\n",
       "      <th>18</th>\n",
       "      <td>097968191X</td>\n",
       "      <td>It is very practical idea but it can not hold ...</td>\n",
       "      <td>health_and_personal_care</td>\n",
       "      <td>28</td>\n",
       "    </tr>\n",
       "    <tr>\n",
       "      <th>19</th>\n",
       "      <td>097968191X</td>\n",
       "      <td>I love this thing . I gave it 4 stars because ...</td>\n",
       "      <td>health_and_personal_care</td>\n",
       "      <td>65</td>\n",
       "    </tr>\n",
       "    <tr>\n",
       "      <th>20</th>\n",
       "      <td>097968191X</td>\n",
       "      <td>this product is very hand while on the floors ...</td>\n",
       "      <td>health_and_personal_care</td>\n",
       "      <td>27</td>\n",
       "    </tr>\n",
       "  </tbody>\n",
       "</table>\n",
       "</div>"
      ],
      "text/plain": [
       "      group_id                                        review_text  \\\n",
       "0   097968191X  I purchased this after I saw that another stud...   \n",
       "1   097968191X  This is a very useful clipboard , & portable.I...   \n",
       "2   097968191X  Excellant and helpful product . A lot of the D...   \n",
       "3   097968191X  I like this clipboard very much . It is handy ...   \n",
       "4   097968191X  Very nice , I use it everyday at work and I am...   \n",
       "5   097968191X  Really good but price is a lil moreworks bette...   \n",
       "6   097968191X  I bought this about a month ago and it has pro...   \n",
       "7   097968191X  The clipboard works very well , I use it as my...   \n",
       "8   097968191X  Great product , very handy , lightweight.Now I...   \n",
       "9   097968191X  Handy clipboard that conveniently fits in the ...   \n",
       "10  097968191X  I love this clip board . I work on an ambulanc...   \n",
       "11  097968191X   love my clipboard ! I haven 't lost my \" brai...   \n",
       "12  097968191X  Love this clipboard . I carry one daily and ha...   \n",
       "13  097968191X  Works very well . I agree with other reviewer ...   \n",
       "14  097968191X  fits perfectly in your white coat ... these ha...   \n",
       "15  097968191X  Love it ! It 's very helpful in the hospital w...   \n",
       "16  097968191X  Great for medical students and interns . Has g...   \n",
       "17  097968191X  Cute clipboards . Fits in the pocket when fold...   \n",
       "18  097968191X  It is very practical idea but it can not hold ...   \n",
       "19  097968191X  I love this thing . I gave it 4 stars because ...   \n",
       "20  097968191X  this product is very hand while on the floors ...   \n",
       "\n",
       "                    category  word_count  \n",
       "0   health_and_personal_care          46  \n",
       "1   health_and_personal_care          66  \n",
       "2   health_and_personal_care          22  \n",
       "3   health_and_personal_care          42  \n",
       "4   health_and_personal_care          20  \n",
       "5   health_and_personal_care          30  \n",
       "6   health_and_personal_care          64  \n",
       "7   health_and_personal_care          55  \n",
       "8   health_and_personal_care          30  \n",
       "9   health_and_personal_care          25  \n",
       "10  health_and_personal_care          25  \n",
       "11  health_and_personal_care          67  \n",
       "12  health_and_personal_care          59  \n",
       "13  health_and_personal_care          67  \n",
       "14  health_and_personal_care          23  \n",
       "15  health_and_personal_care          23  \n",
       "16  health_and_personal_care          33  \n",
       "17  health_and_personal_care          22  \n",
       "18  health_and_personal_care          28  \n",
       "19  health_and_personal_care          65  \n",
       "20  health_and_personal_care          27  "
      ]
     },
     "execution_count": 16,
     "metadata": {},
     "output_type": "execute_result"
    }
   ],
   "source": [
    "df"
   ]
  },
  {
   "cell_type": "code",
   "execution_count": 18,
   "id": "3627e100",
   "metadata": {},
   "outputs": [],
   "source": [
    "def count_words(text):\n",
    "    # Split the text into words using whitespace as the delimiter\n",
    "    words = text.split()\n",
    "    # Return the number of words in the text\n",
    "    return len(words)\n",
    "\n",
    "# Add a new column 'Word Count' to the DataFrame\n",
    "df= df[(df['word_count'] >= 10) & (df['word_count'] <= 150)]\n"
   ]
  },
  {
   "cell_type": "code",
   "execution_count": 19,
   "id": "9572d5a4",
   "metadata": {},
   "outputs": [
    {
     "data": {
      "text/html": [
       "<div>\n",
       "<style scoped>\n",
       "    .dataframe tbody tr th:only-of-type {\n",
       "        vertical-align: middle;\n",
       "    }\n",
       "\n",
       "    .dataframe tbody tr th {\n",
       "        vertical-align: top;\n",
       "    }\n",
       "\n",
       "    .dataframe thead th {\n",
       "        text-align: right;\n",
       "    }\n",
       "</style>\n",
       "<table border=\"1\" class=\"dataframe\">\n",
       "  <thead>\n",
       "    <tr style=\"text-align: right;\">\n",
       "      <th></th>\n",
       "      <th>group_id</th>\n",
       "      <th>review_text</th>\n",
       "      <th>category</th>\n",
       "      <th>word_count</th>\n",
       "    </tr>\n",
       "  </thead>\n",
       "  <tbody>\n",
       "    <tr>\n",
       "      <th>0</th>\n",
       "      <td>097968191X</td>\n",
       "      <td>I purchased this after I saw that another stud...</td>\n",
       "      <td>health_and_personal_care</td>\n",
       "      <td>46</td>\n",
       "    </tr>\n",
       "    <tr>\n",
       "      <th>1</th>\n",
       "      <td>097968191X</td>\n",
       "      <td>This is a very useful clipboard , &amp; portable.I...</td>\n",
       "      <td>health_and_personal_care</td>\n",
       "      <td>66</td>\n",
       "    </tr>\n",
       "    <tr>\n",
       "      <th>2</th>\n",
       "      <td>097968191X</td>\n",
       "      <td>Excellant and helpful product . A lot of the D...</td>\n",
       "      <td>health_and_personal_care</td>\n",
       "      <td>22</td>\n",
       "    </tr>\n",
       "    <tr>\n",
       "      <th>3</th>\n",
       "      <td>097968191X</td>\n",
       "      <td>I like this clipboard very much . It is handy ...</td>\n",
       "      <td>health_and_personal_care</td>\n",
       "      <td>42</td>\n",
       "    </tr>\n",
       "    <tr>\n",
       "      <th>4</th>\n",
       "      <td>097968191X</td>\n",
       "      <td>Very nice , I use it everyday at work and I am...</td>\n",
       "      <td>health_and_personal_care</td>\n",
       "      <td>20</td>\n",
       "    </tr>\n",
       "    <tr>\n",
       "      <th>5</th>\n",
       "      <td>097968191X</td>\n",
       "      <td>Really good but price is a lil moreworks bette...</td>\n",
       "      <td>health_and_personal_care</td>\n",
       "      <td>30</td>\n",
       "    </tr>\n",
       "    <tr>\n",
       "      <th>6</th>\n",
       "      <td>097968191X</td>\n",
       "      <td>I bought this about a month ago and it has pro...</td>\n",
       "      <td>health_and_personal_care</td>\n",
       "      <td>64</td>\n",
       "    </tr>\n",
       "    <tr>\n",
       "      <th>7</th>\n",
       "      <td>097968191X</td>\n",
       "      <td>The clipboard works very well , I use it as my...</td>\n",
       "      <td>health_and_personal_care</td>\n",
       "      <td>55</td>\n",
       "    </tr>\n",
       "    <tr>\n",
       "      <th>8</th>\n",
       "      <td>097968191X</td>\n",
       "      <td>Great product , very handy , lightweight.Now I...</td>\n",
       "      <td>health_and_personal_care</td>\n",
       "      <td>30</td>\n",
       "    </tr>\n",
       "    <tr>\n",
       "      <th>9</th>\n",
       "      <td>097968191X</td>\n",
       "      <td>Handy clipboard that conveniently fits in the ...</td>\n",
       "      <td>health_and_personal_care</td>\n",
       "      <td>25</td>\n",
       "    </tr>\n",
       "    <tr>\n",
       "      <th>10</th>\n",
       "      <td>097968191X</td>\n",
       "      <td>I love this clip board . I work on an ambulanc...</td>\n",
       "      <td>health_and_personal_care</td>\n",
       "      <td>25</td>\n",
       "    </tr>\n",
       "    <tr>\n",
       "      <th>11</th>\n",
       "      <td>097968191X</td>\n",
       "      <td>love my clipboard ! I haven 't lost my \" brai...</td>\n",
       "      <td>health_and_personal_care</td>\n",
       "      <td>67</td>\n",
       "    </tr>\n",
       "    <tr>\n",
       "      <th>12</th>\n",
       "      <td>097968191X</td>\n",
       "      <td>Love this clipboard . I carry one daily and ha...</td>\n",
       "      <td>health_and_personal_care</td>\n",
       "      <td>59</td>\n",
       "    </tr>\n",
       "    <tr>\n",
       "      <th>13</th>\n",
       "      <td>097968191X</td>\n",
       "      <td>Works very well . I agree with other reviewer ...</td>\n",
       "      <td>health_and_personal_care</td>\n",
       "      <td>67</td>\n",
       "    </tr>\n",
       "    <tr>\n",
       "      <th>14</th>\n",
       "      <td>097968191X</td>\n",
       "      <td>fits perfectly in your white coat ... these ha...</td>\n",
       "      <td>health_and_personal_care</td>\n",
       "      <td>23</td>\n",
       "    </tr>\n",
       "    <tr>\n",
       "      <th>15</th>\n",
       "      <td>097968191X</td>\n",
       "      <td>Love it ! It 's very helpful in the hospital w...</td>\n",
       "      <td>health_and_personal_care</td>\n",
       "      <td>23</td>\n",
       "    </tr>\n",
       "    <tr>\n",
       "      <th>16</th>\n",
       "      <td>097968191X</td>\n",
       "      <td>Great for medical students and interns . Has g...</td>\n",
       "      <td>health_and_personal_care</td>\n",
       "      <td>33</td>\n",
       "    </tr>\n",
       "    <tr>\n",
       "      <th>17</th>\n",
       "      <td>097968191X</td>\n",
       "      <td>Cute clipboards . Fits in the pocket when fold...</td>\n",
       "      <td>health_and_personal_care</td>\n",
       "      <td>22</td>\n",
       "    </tr>\n",
       "    <tr>\n",
       "      <th>18</th>\n",
       "      <td>097968191X</td>\n",
       "      <td>It is very practical idea but it can not hold ...</td>\n",
       "      <td>health_and_personal_care</td>\n",
       "      <td>28</td>\n",
       "    </tr>\n",
       "    <tr>\n",
       "      <th>19</th>\n",
       "      <td>097968191X</td>\n",
       "      <td>I love this thing . I gave it 4 stars because ...</td>\n",
       "      <td>health_and_personal_care</td>\n",
       "      <td>65</td>\n",
       "    </tr>\n",
       "    <tr>\n",
       "      <th>20</th>\n",
       "      <td>097968191X</td>\n",
       "      <td>this product is very hand while on the floors ...</td>\n",
       "      <td>health_and_personal_care</td>\n",
       "      <td>27</td>\n",
       "    </tr>\n",
       "  </tbody>\n",
       "</table>\n",
       "</div>"
      ],
      "text/plain": [
       "      group_id                                        review_text  \\\n",
       "0   097968191X  I purchased this after I saw that another stud...   \n",
       "1   097968191X  This is a very useful clipboard , & portable.I...   \n",
       "2   097968191X  Excellant and helpful product . A lot of the D...   \n",
       "3   097968191X  I like this clipboard very much . It is handy ...   \n",
       "4   097968191X  Very nice , I use it everyday at work and I am...   \n",
       "5   097968191X  Really good but price is a lil moreworks bette...   \n",
       "6   097968191X  I bought this about a month ago and it has pro...   \n",
       "7   097968191X  The clipboard works very well , I use it as my...   \n",
       "8   097968191X  Great product , very handy , lightweight.Now I...   \n",
       "9   097968191X  Handy clipboard that conveniently fits in the ...   \n",
       "10  097968191X  I love this clip board . I work on an ambulanc...   \n",
       "11  097968191X   love my clipboard ! I haven 't lost my \" brai...   \n",
       "12  097968191X  Love this clipboard . I carry one daily and ha...   \n",
       "13  097968191X  Works very well . I agree with other reviewer ...   \n",
       "14  097968191X  fits perfectly in your white coat ... these ha...   \n",
       "15  097968191X  Love it ! It 's very helpful in the hospital w...   \n",
       "16  097968191X  Great for medical students and interns . Has g...   \n",
       "17  097968191X  Cute clipboards . Fits in the pocket when fold...   \n",
       "18  097968191X  It is very practical idea but it can not hold ...   \n",
       "19  097968191X  I love this thing . I gave it 4 stars because ...   \n",
       "20  097968191X  this product is very hand while on the floors ...   \n",
       "\n",
       "                    category  word_count  \n",
       "0   health_and_personal_care          46  \n",
       "1   health_and_personal_care          66  \n",
       "2   health_and_personal_care          22  \n",
       "3   health_and_personal_care          42  \n",
       "4   health_and_personal_care          20  \n",
       "5   health_and_personal_care          30  \n",
       "6   health_and_personal_care          64  \n",
       "7   health_and_personal_care          55  \n",
       "8   health_and_personal_care          30  \n",
       "9   health_and_personal_care          25  \n",
       "10  health_and_personal_care          25  \n",
       "11  health_and_personal_care          67  \n",
       "12  health_and_personal_care          59  \n",
       "13  health_and_personal_care          67  \n",
       "14  health_and_personal_care          23  \n",
       "15  health_and_personal_care          23  \n",
       "16  health_and_personal_care          33  \n",
       "17  health_and_personal_care          22  \n",
       "18  health_and_personal_care          28  \n",
       "19  health_and_personal_care          65  \n",
       "20  health_and_personal_care          27  "
      ]
     },
     "execution_count": 19,
     "metadata": {},
     "output_type": "execute_result"
    }
   ],
   "source": [
    "df"
   ]
  },
  {
   "cell_type": "code",
   "execution_count": 20,
   "id": "5a66364f",
   "metadata": {},
   "outputs": [],
   "source": [
    "product_of_interest = '097968191X'\n",
    "\n",
    "# Filter the DataFrame to collect reviews for the specified product\n",
    "product_reviews = df[df['group_id'] == product_of_interest]['review_text']\n",
    "\n",
    "# Convert the filtered reviews to a list (if needed)\n",
    "product_reviews_list = product_reviews.tolist()"
   ]
  },
  {
   "cell_type": "code",
   "execution_count": 21,
   "id": "9dddbecf",
   "metadata": {},
   "outputs": [
    {
     "data": {
      "text/plain": [
       "['I purchased this after I saw that another student had one and I love it ! It fits into your pocket and you can fold it to maintain patient privacy . I took it to clinic and 3 other RNs bought them that same day !',\n",
       " \"This is a very useful clipboard , & portable.Its not being sold here on Amazon ? ( says currently unavailable ) . I like this one better than the vertical folding one they have ASIN : B000KK5FR8 ( this version I am reviewing , won 't hit your elbow in your coat pocket or slide around ) .Glad I got the last one at least !\",\n",
       " \"Excellant and helpful product . A lot of the Doctors at medical school ordered this clipboard after seeing my son 's .\",\n",
       " \"I like this clipboard very much . It is handy and fits into small spaces so that I don 't have to carry a big bulky regular clipboard around that becomes unwieldy . It has made my work so much easier .\",\n",
       " 'Very nice , I use it everyday at work and I am planning on buying another for home use .',\n",
       " 'Really good but price is a lil moreworks better for those who were white coats but most of the times residentsdonot wear coat but I do so works for me',\n",
       " \"I bought this about a month ago and it has proven really helpful ! The only reasons I didn 't give 5 stars : It does not fit A4 paper ( the European style ) well , and most importantly , it is a little heavy.Other than these , it is almost perfect ! I highly recommend it ( especially for US ) !\",\n",
       " 'The clipboard works very well , I use it as my charge board to hold info about the pts on the unit when I am in charge . I can fold the board withe necessary to maintain the privacy of the patients It is portable enough to put in my jacket pocket if necessary .',\n",
       " 'Great product , very handy , lightweight.Now I never forget any pertinent things about my pt even at the end of the day , I can write my notes .',\n",
       " 'Handy clipboard that conveniently fits in the side pockets of my whitecoat . Awesome . Even my colleagues have commented how cool it is .',\n",
       " 'I love this clip board . I work on an ambulance and use it everyday . Wish I bought had one years ago . Thanks',\n",
       " ' love my clipboard ! I haven \\'t lost my \" brain \" since I have been using this . It is easy to use and put in my pocket , and then flip out to use when I need it ! So far 4 other nurses on my floor have purchased this item ! It is very handy----and informative . I would recommend it to everyone !',\n",
       " 'Love this clipboard . I carry one daily and have done so for more than a decade . This is the best one I have found and I love that it fits in my white coat pocket . It is sturdy for me to write on at the bedside as well . I have shown it to everyone .',\n",
       " \"Works very well . I agree with other reviewer that it does have capacity limitations but easily carries what I need for daily rounds . Even if you don 't put it in your coat pocket it is less bulky to carry folded compared obviously to full size clipboard . Pretty expensive though ; I think they would sell many more if they dropped the price .\",\n",
       " 'fits perfectly in your white coat ... these have become quite popular in my institution and for good reason. very handy ! !',\n",
       " \"Love it ! It 's very helpful in the hospital when seeing patients . There 's lots of good information on it .\",\n",
       " 'Great for medical students and interns . Has good information , as you progress from student to resident you need less information since you have memorized it , best for med students .',\n",
       " 'Cute clipboards . Fits in the pocket when folded . I gave it 4 stars only because its a bit pricey .',\n",
       " 'It is very practical idea but it can not hold tons of paper . It is relatively sturdy and the equations on the outside are very helpful .',\n",
       " \"I love this thing . I gave it 4 stars because i prefer the vertical one to the horizontal one just because that 's the way i like to fold my papers , but this thing works great . If i could the the vertical one again i would be super excited . So ... White Coat Clipboard ... bring it back ! ! !\",\n",
       " 'this product is very hand while on the floors seeing people in the hospital and handy info is on the outside for calculations and med doses .']"
      ]
     },
     "execution_count": 21,
     "metadata": {},
     "output_type": "execute_result"
    }
   ],
   "source": [
    "product_reviews_list"
   ]
  },
  {
   "cell_type": "code",
   "execution_count": 24,
   "id": "fbdc6baf",
   "metadata": {},
   "outputs": [
    {
     "name": "stdout",
     "output_type": "stream",
     "text": [
      "['Love this clipboard . I carry one daily and have done so for more than a decade . This is the best one I have found and I love that it fits in my white coat pocket . It is sturdy for me to write on at the bedside as well . I have shown it to everyone .']\n"
     ]
    }
   ],
   "source": [
    "from lexrank import LexRank\n",
    "from lexrank.mappings.stopwords import STOPWORDS\n",
    "from path import Path\n",
    "\n",
    "documents = []\n",
    "documents_dir = Path('bbc/politics')\n",
    "\n",
    "for file_path in documents_dir.files('*.txt'):\n",
    "    with file_path.open(mode='rt', encoding='utf-8') as fp:\n",
    "        documents.append(fp.readlines())\n",
    "\n",
    "lxr = LexRank(documents, stopwords=STOPWORDS['en'])\n",
    "\n",
    "\n",
    "# get summary with classical LexRank algorithm\n",
    "#summary = lxr.get_summary(product_reviews_list, summary_size=1, threshold=.1)\n",
    "#print(summary)\n",
    "\n",
    "\n",
    "# get summary with continuous LexRank\n",
    "summary_cont = lxr.get_summary(product_reviews_list, threshold=None)\n",
    "print(summary_cont)"
   ]
  },
  {
   "cell_type": "code",
   "execution_count": 25,
   "id": "69e1961d",
   "metadata": {},
   "outputs": [
    {
     "data": {
      "text/plain": [
       "'Love this clipboard . I carry one daily and have done so for more than a decade . This is the best one I have found and I love that it fits in my white coat pocket . It is sturdy for me to write on at the bedside as well . I have shown it to everyone .'"
      ]
     },
     "execution_count": 25,
     "metadata": {},
     "output_type": "execute_result"
    }
   ],
   "source": [
    "summary_string = '\\n'.join(summary_cont)\n",
    "summary_string"
   ]
  },
  {
   "cell_type": "code",
   "execution_count": 26,
   "id": "23469e9f",
   "metadata": {},
   "outputs": [
    {
     "data": {
      "text/plain": [
       "'I purchased this after I saw that another student had one and I love it ! It fits into your pocket and you can fold it to maintain patient privacy . I took it to clinic and 3 other RNs bought them that same day !This is a very useful clipboard , & portable.Its not being sold here on Amazon ? ( says currently unavailable ) . I like this one better than the vertical folding one they have ASIN : B000KK5FR8 ( this version I am reviewing , won \\'t hit your elbow in your coat pocket or slide around ) .Glad I got the last one at least !Excellant and helpful product . A lot of the Doctors at medical school ordered this clipboard after seeing my son \\'s .I like this clipboard very much . It is handy and fits into small spaces so that I don \\'t have to carry a big bulky regular clipboard around that becomes unwieldy . It has made my work so much easier .Very nice , I use it everyday at work and I am planning on buying another for home use .Really good but price is a lil moreworks better for those who were white coats but most of the times residentsdonot wear coat but I do so works for meI bought this about a month ago and it has proven really helpful ! The only reasons I didn \\'t give 5 stars : It does not fit A4 paper ( the European style ) well , and most importantly , it is a little heavy.Other than these , it is almost perfect ! I highly recommend it ( especially for US ) !The clipboard works very well , I use it as my charge board to hold info about the pts on the unit when I am in charge . I can fold the board withe necessary to maintain the privacy of the patients It is portable enough to put in my jacket pocket if necessary .Great product , very handy , lightweight.Now I never forget any pertinent things about my pt even at the end of the day , I can write my notes .Handy clipboard that conveniently fits in the side pockets of my whitecoat . Awesome . Even my colleagues have commented how cool it is .I love this clip board . I work on an ambulance and use it everyday . Wish I bought had one years ago . Thanks love my clipboard ! I haven \\'t lost my \" brain \" since I have been using this . It is easy to use and put in my pocket , and then flip out to use when I need it ! So far 4 other nurses on my floor have purchased this item ! It is very handy----and informative . I would recommend it to everyone !Love this clipboard . I carry one daily and have done so for more than a decade . This is the best one I have found and I love that it fits in my white coat pocket . It is sturdy for me to write on at the bedside as well . I have shown it to everyone .Works very well . I agree with other reviewer that it does have capacity limitations but easily carries what I need for daily rounds . Even if you don \\'t put it in your coat pocket it is less bulky to carry folded compared obviously to full size clipboard . Pretty expensive though ; I think they would sell many more if they dropped the price .fits perfectly in your white coat ... these have become quite popular in my institution and for good reason. very handy ! !Love it ! It \\'s very helpful in the hospital when seeing patients . There \\'s lots of good information on it .Great for medical students and interns . Has good information , as you progress from student to resident you need less information since you have memorized it , best for med students .Cute clipboards . Fits in the pocket when folded . I gave it 4 stars only because its a bit pricey .It is very practical idea but it can not hold tons of paper . It is relatively sturdy and the equations on the outside are very helpful .I love this thing . I gave it 4 stars because i prefer the vertical one to the horizontal one just because that \\'s the way i like to fold my papers , but this thing works great . If i could the the vertical one again i would be super excited . So ... White Coat Clipboard ... bring it back ! ! !this product is very hand while on the floors seeing people in the hospital and handy info is on the outside for calculations and med doses .'"
      ]
     },
     "execution_count": 26,
     "metadata": {},
     "output_type": "execute_result"
    }
   ],
   "source": [
    "product_reviews_list_string = '\\n'.join(product_reviews_list)\n",
    "product_reviews_list_string_cleaned = product_reviews_list_string.replace('\\n', '')\n",
    "product_reviews_list_string_cleaned"
   ]
  },
  {
   "cell_type": "code",
   "execution_count": 29,
   "id": "e80a0132",
   "metadata": {},
   "outputs": [
    {
     "name": "stdout",
     "output_type": "stream",
     "text": [
      "ROUGE-1: {'precision': 1.0, 'recall': 0.07108433734939759, 'f1_score': 0.1327334083239595}\n",
      "ROUGE-2: {'precision': 0.9827586206896551, 'recall': 0.06875753920386007, 'f1_score': 0.1285231116121759}\n"
     ]
    }
   ],
   "source": [
    "import nltk\n",
    "from nltk.util import ngrams\n",
    "from collections import Counter\n",
    "\n",
    "def rouge_n(system_summary, reference_summary, n=1):\n",
    "    # Tokenize the system and reference summaries\n",
    "    sys_tokens = nltk.word_tokenize(system_summary.lower())  # Lowercase for case-insensitivity\n",
    "    ref_tokens = nltk.word_tokenize(reference_summary.lower())\n",
    "    \n",
    "    # Create N-grams\n",
    "    sys_ngrams = list(ngrams(sys_tokens, n))\n",
    "    ref_ngrams = list(ngrams(ref_tokens, n))\n",
    "    \n",
    "    # Count N-grams\n",
    "    sys_ngram_counts = Counter(sys_ngrams)\n",
    "    ref_ngram_counts = Counter(ref_ngrams)\n",
    "    \n",
    "    # Calculate overlaps\n",
    "    overlap = sum((sys_ngram_counts & ref_ngram_counts).values())\n",
    "    \n",
    "    # Calculate precision, recall, and F1-score (ROUGE-N)\n",
    "    precision = overlap / max(len(sys_ngrams), 1)\n",
    "    recall = overlap / max(len(ref_ngrams), 1)\n",
    "    \n",
    "    # Handle potential division by zero for precision and recall\n",
    "    if precision + recall > 0:\n",
    "        f1_score = 2 * (precision * recall) / (precision + recall)\n",
    "    else:\n",
    "        f1_score = 0.0\n",
    "    \n",
    "    return {\"precision\": precision, \"recall\": recall, \"f1_score\": f1_score}\n",
    "\n",
    "rouge_1 = rouge_n(summary_string, product_reviews_list_string_cleaned, n=1)\n",
    "rouge_2 = rouge_n(summary_string, product_reviews_list_string_cleaned, n=2)\n",
    "\n",
    "print(\"ROUGE-1:\", rouge_1)\n",
    "print(\"ROUGE-2:\", rouge_2)"
   ]
  },
  {
   "cell_type": "code",
   "execution_count": 32,
   "id": "e260e296",
   "metadata": {},
   "outputs": [
    {
     "name": "stdout",
     "output_type": "stream",
     "text": [
      "Collecting vaderSentiment\n",
      "  Obtaining dependency information for vaderSentiment from https://files.pythonhosted.org/packages/76/fc/310e16254683c1ed35eeb97386986d6c00bc29df17ce280aed64d55537e9/vaderSentiment-3.3.2-py2.py3-none-any.whl.metadata\n",
      "  Downloading vaderSentiment-3.3.2-py2.py3-none-any.whl.metadata (572 bytes)\n",
      "Requirement already satisfied: requests in c:\\users\\abhishek\\anaconda3\\lib\\site-packages (from vaderSentiment) (2.31.0)\n",
      "Requirement already satisfied: charset-normalizer<4,>=2 in c:\\users\\abhishek\\anaconda3\\lib\\site-packages (from requests->vaderSentiment) (2.0.4)\n",
      "Requirement already satisfied: idna<4,>=2.5 in c:\\users\\abhishek\\anaconda3\\lib\\site-packages (from requests->vaderSentiment) (3.4)\n",
      "Requirement already satisfied: urllib3<3,>=1.21.1 in c:\\users\\abhishek\\anaconda3\\lib\\site-packages (from requests->vaderSentiment) (1.26.16)\n",
      "Requirement already satisfied: certifi>=2017.4.17 in c:\\users\\abhishek\\anaconda3\\lib\\site-packages (from requests->vaderSentiment) (2023.7.22)\n",
      "Downloading vaderSentiment-3.3.2-py2.py3-none-any.whl (125 kB)\n",
      "   ---------------------------------------- 0.0/126.0 kB ? eta -:--:--\n",
      "   ---------------------------------------  122.9/126.0 kB 3.5 MB/s eta 0:00:01\n",
      "   ---------------------------------------  122.9/126.0 kB 3.5 MB/s eta 0:00:01\n",
      "   ---------------------------------------- 126.0/126.0 kB 1.2 MB/s eta 0:00:00\n",
      "Installing collected packages: vaderSentiment\n",
      "Successfully installed vaderSentiment-3.3.2\n",
      "Note: you may need to restart the kernel to use updated packages.\n"
     ]
    }
   ],
   "source": [
    "pip install vaderSentiment"
   ]
  },
  {
   "cell_type": "code",
   "execution_count": 98,
   "id": "78b07273",
   "metadata": {
    "scrolled": false
   },
   "outputs": [],
   "source": [
    "from vaderSentiment.vaderSentiment import SentimentIntensityAnalyzer\n",
    "\n",
    "# Initialize lists to hold separated content\n",
    "damaging_content = []\n",
    "legitimate_content = []\n",
    "\n",
    "# Initialize VADER sentiment analyzer\n",
    "analyzer = SentimentIntensityAnalyzer()\n",
    "\n",
    "# Define a threshold for negative sentiment\n",
    "negative_threshold = 0.4 # Adjusted for VADER's compound score range which is from -1 to 1\n",
    "\n",
    "damaging_content = []\n",
    "legitimate_content = []\n",
    "\n",
    "for review in product_reviews_list:\n",
    "    vs = analyzer.polarity_scores(review)\n",
    "    compound_score = vs['compound']\n",
    "\n",
    "    # Classify reviews based on compound sentiment score\n",
    "    if compound_score < negative_threshold:\n",
    "        damaging_content.append(review)  # Reviews with negative sentiment\n",
    "    else:\n",
    "        legitimate_content.append(review)  # Reviews with positive or neutral sentiment\n",
    "\n"
   ]
  },
  {
   "cell_type": "code",
   "execution_count": 96,
   "id": "aee1b9d8",
   "metadata": {},
   "outputs": [
    {
     "name": "stdout",
     "output_type": "stream",
     "text": [
      "Damaging Content: ['The clipboard works very well , I use it as my charge board to hold info about the pts on the unit when I am in charge . I can fold the board withe necessary to maintain the privacy of the patients It is portable enough to put in my jacket pocket if necessary .']\n"
     ]
    }
   ],
   "source": [
    "print(\"Damaging Content:\", damaging_content)\n",
    "damaging_content_str = ' '.join(damaging_content).replace('\\n', ' ')"
   ]
  },
  {
   "cell_type": "code",
   "execution_count": 97,
   "id": "c5c2a4cd",
   "metadata": {
    "scrolled": false
   },
   "outputs": [
    {
     "name": "stdout",
     "output_type": "stream",
     "text": [
      "Legitimate Content: ['I purchased this after I saw that another student had one and I love it ! It fits into your pocket and you can fold it to maintain patient privacy . I took it to clinic and 3 other RNs bought them that same day !', \"This is a very useful clipboard , & portable.Its not being sold here on Amazon ? ( says currently unavailable ) . I like this one better than the vertical folding one they have ASIN : B000KK5FR8 ( this version I am reviewing , won 't hit your elbow in your coat pocket or slide around ) .Glad I got the last one at least !\", \"Excellant and helpful product . A lot of the Doctors at medical school ordered this clipboard after seeing my son 's .\", \"I like this clipboard very much . It is handy and fits into small spaces so that I don 't have to carry a big bulky regular clipboard around that becomes unwieldy . It has made my work so much easier .\", 'Very nice , I use it everyday at work and I am planning on buying another for home use .', 'Really good but price is a lil moreworks better for those who were white coats but most of the times residentsdonot wear coat but I do so works for me', \"I bought this about a month ago and it has proven really helpful ! The only reasons I didn 't give 5 stars : It does not fit A4 paper ( the European style ) well , and most importantly , it is a little heavy.Other than these , it is almost perfect ! I highly recommend it ( especially for US ) !\", 'Great product , very handy , lightweight.Now I never forget any pertinent things about my pt even at the end of the day , I can write my notes .', 'Handy clipboard that conveniently fits in the side pockets of my whitecoat . Awesome . Even my colleagues have commented how cool it is .', 'I love this clip board . I work on an ambulance and use it everyday . Wish I bought had one years ago . Thanks', ' love my clipboard ! I haven \\'t lost my \" brain \" since I have been using this . It is easy to use and put in my pocket , and then flip out to use when I need it ! So far 4 other nurses on my floor have purchased this item ! It is very handy----and informative . I would recommend it to everyone !', 'Love this clipboard . I carry one daily and have done so for more than a decade . This is the best one I have found and I love that it fits in my white coat pocket . It is sturdy for me to write on at the bedside as well . I have shown it to everyone .', \"Works very well . I agree with other reviewer that it does have capacity limitations but easily carries what I need for daily rounds . Even if you don 't put it in your coat pocket it is less bulky to carry folded compared obviously to full size clipboard . Pretty expensive though ; I think they would sell many more if they dropped the price .\", 'fits perfectly in your white coat ... these have become quite popular in my institution and for good reason. very handy ! !', \"Love it ! It 's very helpful in the hospital when seeing patients . There 's lots of good information on it .\", 'Great for medical students and interns . Has good information , as you progress from student to resident you need less information since you have memorized it , best for med students .', 'Cute clipboards . Fits in the pocket when folded . I gave it 4 stars only because its a bit pricey .', 'It is very practical idea but it can not hold tons of paper . It is relatively sturdy and the equations on the outside are very helpful .', \"I love this thing . I gave it 4 stars because i prefer the vertical one to the horizontal one just because that 's the way i like to fold my papers , but this thing works great . If i could the the vertical one again i would be super excited . So ... White Coat Clipboard ... bring it back ! ! !\", 'this product is very hand while on the floors seeing people in the hospital and handy info is on the outside for calculations and med doses .']\n"
     ]
    }
   ],
   "source": [
    "print(\"Legitimate Content:\", legitimate_content)\n",
    "legitimate_content_str = ' '.join(legitimate_content).replace('\\n', ' ')"
   ]
  },
  {
   "cell_type": "code",
   "execution_count": null,
   "id": "365140f9",
   "metadata": {},
   "outputs": [],
   "source": []
  },
  {
   "cell_type": "code",
   "execution_count": 117,
   "id": "889286d7",
   "metadata": {},
   "outputs": [
    {
     "name": "stderr",
     "output_type": "stream",
     "text": [
      "Special tokens have been added in the vocabulary, make sure the associated word embeddings are fine-tuned or trained.\n"
     ]
    }
   ],
   "source": [
    "from transformers import T5Tokenizer, T5ForConditionalGeneration\n",
    "\n",
    "# Load the pre-trained T5 model and tokenizer\n",
    "model_name = \"t5-small\"\n",
    "tokenizer = T5Tokenizer.from_pretrained(model_name)\n",
    "model = T5ForConditionalGeneration.from_pretrained(model_name)\n",
    "\n",
    "\n"
   ]
  },
  {
   "cell_type": "code",
   "execution_count": 118,
   "id": "4106c5f6",
   "metadata": {},
   "outputs": [
    {
     "name": "stdout",
     "output_type": "stream",
     "text": [
      "\n",
      "Generated Summary:\n",
      "I bought this after I saw that another student had one. it fits into your pocket and you can fold it to maintain patient privacy. I took it to clinic and 3 other RNs bought them that same day.\n"
     ]
    }
   ],
   "source": [
    "def generate_summary(text, max_length=300):\n",
    "    # Tokenize the input text and encode it as tensor\n",
    "    input_ids = tokenizer.encode(\"summarize: \" + text, return_tensors=\"pt\", max_length=512, truncation=True)\n",
    "\n",
    "    # Generate the summary output using the T5 model\n",
    "    summary_ids = model.generate(input_ids, max_length=max_length, num_beams=16, early_stopping=True)\n",
    "\n",
    "    # Decode the summary output from token IDs to text\n",
    "    summary = tokenizer.decode(summary_ids[0], skip_special_tokens=True)\n",
    "    return summary\n",
    "\n",
    "\n",
    "# Generate a summary using T5\n",
    "summary = generate_summary(product_reviews_list_string_cleaned)\n",
    "print(\"\\nGenerated Summary:\")\n",
    "print(summary)"
   ]
  },
  {
   "cell_type": "code",
   "execution_count": 121,
   "id": "c8d262d0",
   "metadata": {},
   "outputs": [
    {
     "name": "stdout",
     "output_type": "stream",
     "text": [
      "Collecting rouge\n",
      "  Obtaining dependency information for rouge from https://files.pythonhosted.org/packages/32/7c/650ae86f92460e9e8ef969cc5008b24798dcf56a9a8947d04c78f550b3f5/rouge-1.0.1-py3-none-any.whl.metadata\n",
      "  Downloading rouge-1.0.1-py3-none-any.whl.metadata (4.1 kB)\n",
      "Requirement already satisfied: six in c:\\users\\abhishek\\anaconda3\\lib\\site-packages (from rouge) (1.16.0)\n",
      "Downloading rouge-1.0.1-py3-none-any.whl (13 kB)\n",
      "Installing collected packages: rouge\n",
      "Successfully installed rouge-1.0.1\n",
      "Note: you may need to restart the kernel to use updated packages.\n"
     ]
    }
   ],
   "source": [
    "pip install rouge"
   ]
  },
  {
   "cell_type": "code",
   "execution_count": 124,
   "id": "317036e2",
   "metadata": {},
   "outputs": [],
   "source": [
    "from rouge import Rouge\n",
    "\n",
    "# Initialize the Rouge scorer\n",
    "rouge = Rouge()\n",
    "\n",
    "# Calculate ROUGE scores\n",
    "scores = rouge.get_scores(summary_string, product_reviews_list_string_cleaned)\n"
   ]
  },
  {
   "cell_type": "code",
   "execution_count": 125,
   "id": "99ceb4c5",
   "metadata": {},
   "outputs": [
    {
     "name": "stdout",
     "output_type": "stream",
     "text": [
      "ROUGE scores: [{'rouge-1': {'r': 0.12275449101796407, 'p': 0.9761904761904762, 'f': 0.21808510439848353}, 'rouge-2': {'r': 0.07327586206896551, 'p': 0.9807692307692307, 'f': 0.1363636350699191}, 'rouge-l': {'r': 0.12275449101796407, 'p': 0.9761904761904762, 'f': 0.21808510439848353}}]\n"
     ]
    }
   ],
   "source": [
    "print(\"ROUGE scores:\", scores)\n"
   ]
  },
  {
   "cell_type": "code",
   "execution_count": 126,
   "id": "76e20215",
   "metadata": {},
   "outputs": [
    {
     "name": "stdout",
     "output_type": "stream",
     "text": [
      "Requirement already satisfied: transformers in c:\\users\\abhishek\\anaconda3\\lib\\site-packages (4.39.3)Note: you may need to restart the kernel to use updated packages.\n",
      "\n",
      "Requirement already satisfied: filelock in c:\\users\\abhishek\\anaconda3\\lib\\site-packages (from transformers) (3.9.0)\n",
      "Requirement already satisfied: huggingface-hub<1.0,>=0.19.3 in c:\\users\\abhishek\\anaconda3\\lib\\site-packages (from transformers) (0.22.2)\n",
      "Requirement already satisfied: numpy>=1.17 in c:\\users\\abhishek\\anaconda3\\lib\\site-packages (from transformers) (1.24.3)\n",
      "Requirement already satisfied: packaging>=20.0 in c:\\users\\abhishek\\anaconda3\\lib\\site-packages (from transformers) (23.0)\n",
      "Requirement already satisfied: pyyaml>=5.1 in c:\\users\\abhishek\\anaconda3\\lib\\site-packages (from transformers) (6.0)\n",
      "Requirement already satisfied: regex!=2019.12.17 in c:\\users\\abhishek\\anaconda3\\lib\\site-packages (from transformers) (2022.7.9)\n",
      "Requirement already satisfied: requests in c:\\users\\abhishek\\anaconda3\\lib\\site-packages (from transformers) (2.31.0)\n",
      "Requirement already satisfied: tokenizers<0.19,>=0.14 in c:\\users\\abhishek\\anaconda3\\lib\\site-packages (from transformers) (0.15.2)\n",
      "Requirement already satisfied: safetensors>=0.4.1 in c:\\users\\abhishek\\anaconda3\\lib\\site-packages (from transformers) (0.4.3)\n",
      "Requirement already satisfied: tqdm>=4.27 in c:\\users\\abhishek\\anaconda3\\lib\\site-packages (from transformers) (4.65.0)\n",
      "Requirement already satisfied: fsspec>=2023.5.0 in c:\\users\\abhishek\\anaconda3\\lib\\site-packages (from huggingface-hub<1.0,>=0.19.3->transformers) (2024.3.1)\n",
      "Requirement already satisfied: typing-extensions>=3.7.4.3 in c:\\users\\abhishek\\anaconda3\\lib\\site-packages (from huggingface-hub<1.0,>=0.19.3->transformers) (4.11.0)\n",
      "Requirement already satisfied: colorama in c:\\users\\abhishek\\anaconda3\\lib\\site-packages (from tqdm>=4.27->transformers) (0.4.6)\n",
      "Requirement already satisfied: charset-normalizer<4,>=2 in c:\\users\\abhishek\\anaconda3\\lib\\site-packages (from requests->transformers) (2.0.4)\n",
      "Requirement already satisfied: idna<4,>=2.5 in c:\\users\\abhishek\\anaconda3\\lib\\site-packages (from requests->transformers) (3.4)\n",
      "Requirement already satisfied: urllib3<3,>=1.21.1 in c:\\users\\abhishek\\anaconda3\\lib\\site-packages (from requests->transformers) (1.26.16)\n",
      "Requirement already satisfied: certifi>=2017.4.17 in c:\\users\\abhishek\\anaconda3\\lib\\site-packages (from requests->transformers) (2023.7.22)\n"
     ]
    }
   ],
   "source": [
    "pip install transformers\n"
   ]
  },
  {
   "cell_type": "code",
   "execution_count": null,
   "id": "920be6e4",
   "metadata": {},
   "outputs": [
    {
     "data": {
      "application/vnd.jupyter.widget-view+json": {
       "model_id": "0f6f17c0b0a548d78e9e581355a5e48e",
       "version_major": 2,
       "version_minor": 0
      },
      "text/plain": [
       "tokenizer_config.json:   0%|          | 0.00/87.0 [00:00<?, ?B/s]"
      ]
     },
     "metadata": {},
     "output_type": "display_data"
    },
    {
     "name": "stderr",
     "output_type": "stream",
     "text": [
      "C:\\Users\\Abhishek\\anaconda3\\Lib\\site-packages\\huggingface_hub\\file_download.py:148: UserWarning: `huggingface_hub` cache-system uses symlinks by default to efficiently store duplicated files but your machine does not support them in C:\\Users\\Abhishek\\.cache\\huggingface\\hub\\models--google--pegasus-xsum. Caching files will still work but in a degraded version that might require more space on your disk. This warning can be disabled by setting the `HF_HUB_DISABLE_SYMLINKS_WARNING` environment variable. For more details, see https://huggingface.co/docs/huggingface_hub/how-to-cache#limitations.\n",
      "To support symlinks on Windows, you either need to activate Developer Mode or to run Python as an administrator. In order to see activate developer mode, see this article: https://docs.microsoft.com/en-us/windows/apps/get-started/enable-your-device-for-development\n",
      "  warnings.warn(message)\n"
     ]
    },
    {
     "data": {
      "application/vnd.jupyter.widget-view+json": {
       "model_id": "f39f49b59bdc4fd19bcf28231431a28f",
       "version_major": 2,
       "version_minor": 0
      },
      "text/plain": [
       "spiece.model:   0%|          | 0.00/1.91M [00:00<?, ?B/s]"
      ]
     },
     "metadata": {},
     "output_type": "display_data"
    },
    {
     "data": {
      "application/vnd.jupyter.widget-view+json": {
       "model_id": "d1e5db9028584d37b557994385e29603",
       "version_major": 2,
       "version_minor": 0
      },
      "text/plain": [
       "special_tokens_map.json:   0%|          | 0.00/65.0 [00:00<?, ?B/s]"
      ]
     },
     "metadata": {},
     "output_type": "display_data"
    },
    {
     "data": {
      "application/vnd.jupyter.widget-view+json": {
       "model_id": "9b43a6b8927345f6bd5b73c322169aac",
       "version_major": 2,
       "version_minor": 0
      },
      "text/plain": [
       "tokenizer.json:   0%|          | 0.00/3.52M [00:00<?, ?B/s]"
      ]
     },
     "metadata": {},
     "output_type": "display_data"
    },
    {
     "data": {
      "application/vnd.jupyter.widget-view+json": {
       "model_id": "3dddaac17f3c468792d8761fd1b68976",
       "version_major": 2,
       "version_minor": 0
      },
      "text/plain": [
       "config.json:   0%|          | 0.00/1.39k [00:00<?, ?B/s]"
      ]
     },
     "metadata": {},
     "output_type": "display_data"
    },
    {
     "data": {
      "application/vnd.jupyter.widget-view+json": {
       "model_id": "ae32e0e371a44e578249d0f0791c9cba",
       "version_major": 2,
       "version_minor": 0
      },
      "text/plain": [
       "pytorch_model.bin:   0%|          | 0.00/2.28G [00:00<?, ?B/s]"
      ]
     },
     "metadata": {},
     "output_type": "display_data"
    }
   ],
   "source": [
    "from transformers import PegasusForConditionalGeneration, PegasusTokenizer\n",
    "\n",
    "# Load Pegasus tokenizer and model\n",
    "model_name = \"google/pegasus-xsum\"\n",
    "tokenizer = PegasusTokenizer.from_pretrained(model_name)\n",
    "model = PegasusForConditionalGeneration.from_pretrained(model_name)\n",
    "\n",
    "\n",
    "# Tokenize the input text\n",
    "input_ids = tokenizer.encode(product_reviews_list_string_cleaned, return_tensors=\"pt\", max_length=1024, truncation=True)\n",
    "\n",
    "# Generate the summary\n",
    "summary_ids = model.generate(input_ids, max_length=150, num_beams=4, early_stopping=True)\n",
    "summary = tokenizer.decode(summary_ids[0], skip_special_tokens=True)\n",
    "\n",
    "print(\"Original Text:\")\n",
    "print(input_text)\n",
    "\n",
    "print(\"\\nSummary:\")\n",
    "print(summary)\n"
   ]
  },
  {
   "cell_type": "code",
   "execution_count": null,
   "id": "6366346b",
   "metadata": {},
   "outputs": [],
   "source": []
  }
 ],
 "metadata": {
  "kernelspec": {
   "display_name": "Python 3 (ipykernel)",
   "language": "python",
   "name": "python3"
  },
  "language_info": {
   "codemirror_mode": {
    "name": "ipython",
    "version": 3
   },
   "file_extension": ".py",
   "mimetype": "text/x-python",
   "name": "python",
   "nbconvert_exporter": "python",
   "pygments_lexer": "ipython3",
   "version": "3.11.4"
  }
 },
 "nbformat": 4,
 "nbformat_minor": 5
}
